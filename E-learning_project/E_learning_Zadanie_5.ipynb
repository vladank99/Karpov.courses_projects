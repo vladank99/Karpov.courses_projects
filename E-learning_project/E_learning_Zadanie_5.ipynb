{
 "cells": [
  {
   "cell_type": "markdown",
   "metadata": {},
   "source": [
    "## Это файл с решением задания 5"
   ]
  },
  {
   "cell_type": "markdown",
   "metadata": {},
   "source": [
    "### Вопрос: \n",
    "- Напиши функцию на python, позволяющую строить *когортный (семестровый) анализ*.   \n",
    "- В период с начала 2013 по конец 2014 выяви семестр с самой низкой завершаемостью курсов и самыми долгими средними сроками сдачи курсов."
   ]
  },
  {
   "cell_type": "markdown",
   "metadata": {},
   "source": [
    "### Общая логика: \n",
    "1. Создаем дата-сет с теми студентами, кто сдавал экзамены, поскольку завершаемость и средний срок сдачи подразумевает наличие экзамена на предмете \n",
    "2. Если это дата-сет с экзаменами, то мы должны не забывать про студента (из предыдущих заданий), кто не зарегистрировался на экзамен\n",
    "    - удаление незарегистрированного студента \n",
    "    \n",
    "    Дополнительные вопросы: \n",
    "    - покрывает ли date_submitted всех студентов. Иными словами, у всех ли студентов date_submitted != NA \n",
    "    - Определиться, какой семестр первее: J или B \n",
    "    \n",
    "3. Из прошлого задания мы помним, что для определения среднего срока нужно использоваться date_submitted (поскольку она самая широкая) \n",
    "\n",
    "4. Построение функции для когорного анализа: по среднему сроку и завершаемости с двумя heat_map"
   ]
  },
  {
   "cell_type": "markdown",
   "metadata": {},
   "source": [
    "### Либы"
   ]
  },
  {
   "cell_type": "code",
   "execution_count": 7,
   "metadata": {},
   "outputs": [],
   "source": [
    "import pandas as pd\n",
    "import matplotlib.pyplot as plt\n",
    "import seaborn as sns\n",
    "import matplotlib.colors as mcolors\n",
    "\n",
    "sns.set(rc={'figure.figsize':(10,9)})"
   ]
  },
  {
   "cell_type": "markdown",
   "metadata": {},
   "source": [
    "### Загрузка дата-сета"
   ]
  },
  {
   "cell_type": "code",
   "execution_count": 8,
   "metadata": {},
   "outputs": [],
   "source": [
    "#Качаем дата-сеты\n",
    "assesments = pd.read_csv('/home/jupyter-v-ankushev-18/Project_2_online/assessments.csv')\n",
    "courses = pd.read_csv('/home/jupyter-v-ankushev-18/Project_2_online/courses.csv')\n",
    "student_assesment = pd.read_csv('/home/jupyter-v-ankushev-18/Project_2_online/studentAssessment.csv')\n",
    "student_registration = pd.read_csv('/home/jupyter-v-ankushev-18/Project_2_online/studentRegistration.csv')\n",
    "\n",
    "#Связываем дата-сеты\n",
    "courses_reg = pd.merge(courses,student_registration,on=['code_module', 'code_presentation'])\n",
    "ocenki = pd.merge(courses_reg, assesments,on= ['code_module', 'code_presentation'])\n",
    "full_ocenki = pd.merge(ocenki, student_assesment,on=['id_assessment', 'id_student'])"
   ]
  },
  {
   "cell_type": "markdown",
   "metadata": {},
   "source": [
    "### Создаем дата-сет со студентами, которые сдавали экз"
   ]
  },
  {
   "cell_type": "code",
   "execution_count": 9,
   "metadata": {},
   "outputs": [],
   "source": [
    "#Список критерий\n",
    "examini = full_ocenki[full_ocenki['assessment_type'] == \"Exam\"].id_student.unique().tolist()\n",
    "\n",
    "#Дата-сет с экзаменами\n",
    "examin_data = full_ocenki[full_ocenki.id_student.isin(examini)]"
   ]
  },
  {
   "cell_type": "markdown",
   "metadata": {},
   "source": [
    "### Удалим студента\n",
    "кто не зарегистировался на экзамен, поскольку он не сдал экз –> он его дропнул"
   ]
  },
  {
   "cell_type": "code",
   "execution_count": 10,
   "metadata": {},
   "outputs": [],
   "source": [
    "#Дропнутый студент\n",
    "dropped_student = [425543]\n",
    "\n",
    "#Удаление\n",
    "examin_data_new = examin_data[~examin_data.id_student.isin(dropped_student)]"
   ]
  },
  {
   "cell_type": "markdown",
   "metadata": {},
   "source": [
    "### Покрывает ли date_submitted всех студентов? Или есть NA?"
   ]
  },
  {
   "cell_type": "code",
   "execution_count": 11,
   "metadata": {},
   "outputs": [
    {
     "data": {
      "text/html": [
       "<div>\n",
       "<style scoped>\n",
       "    .dataframe tbody tr th:only-of-type {\n",
       "        vertical-align: middle;\n",
       "    }\n",
       "\n",
       "    .dataframe tbody tr th {\n",
       "        vertical-align: top;\n",
       "    }\n",
       "\n",
       "    .dataframe thead th {\n",
       "        text-align: right;\n",
       "    }\n",
       "</style>\n",
       "<table border=\"1\" class=\"dataframe\">\n",
       "  <thead>\n",
       "    <tr style=\"text-align: right;\">\n",
       "      <th></th>\n",
       "      <th>code_module</th>\n",
       "      <th>code_presentation</th>\n",
       "      <th>module_presentation_length</th>\n",
       "      <th>id_student</th>\n",
       "      <th>date_registration</th>\n",
       "      <th>date_unregistration</th>\n",
       "      <th>id_assessment</th>\n",
       "      <th>assessment_type</th>\n",
       "      <th>date</th>\n",
       "      <th>weight</th>\n",
       "      <th>date_submitted</th>\n",
       "      <th>is_banked</th>\n",
       "      <th>score</th>\n",
       "    </tr>\n",
       "  </thead>\n",
       "  <tbody>\n",
       "  </tbody>\n",
       "</table>\n",
       "</div>"
      ],
      "text/plain": [
       "Empty DataFrame\n",
       "Columns: [code_module, code_presentation, module_presentation_length, id_student, date_registration, date_unregistration, id_assessment, assessment_type, date, weight, date_submitted, is_banked, score]\n",
       "Index: []"
      ]
     },
     "execution_count": 11,
     "metadata": {},
     "output_type": "execute_result"
    }
   ],
   "source": [
    "examin_data_new.query('date_submitted != date_submitted')"
   ]
  },
  {
   "cell_type": "markdown",
   "metadata": {},
   "source": [
    "Нет, date_submitted покрывает всех студентов!"
   ]
  },
  {
   "cell_type": "markdown",
   "metadata": {},
   "source": [
    "## Какой из семестров первее J или B?"
   ]
  },
  {
   "cell_type": "markdown",
   "metadata": {},
   "source": [
    "Я не знаю по каким метрикам определить, какой семестр первее – J или B  \n",
    "Посмотрел на id_assessment, потому что вроде эта метрика нерандомная. Она имеет закономерное возрастание   \n",
    "Но там получилась фигня\n",
    "\n",
    "Так, что давайте договоримся по алфавитному порядку:\n",
    "* 2013B\n",
    "* 2013J\n",
    "* 2014B\n",
    "* 2014J"
   ]
  },
  {
   "cell_type": "markdown",
   "metadata": {},
   "source": [
    "## Когортный анализ"
   ]
  },
  {
   "cell_type": "code",
   "execution_count": 12,
   "metadata": {},
   "outputs": [],
   "source": [
    "#Функция для того, чтобы принтить два результата на одной странице\n",
    "from IPython.display import display_html\n",
    "from itertools import chain,cycle\n",
    "def display_side_by_side(*args,titles=cycle([''])):\n",
    "    html_str=''\n",
    "    for df,title in zip(args, chain(titles,cycle(['</br>'])) ):\n",
    "        html_str+='<th style=\"text-align:center\"><td style=\"vertical-align:top\">'\n",
    "        html_str+=f'<h2>{title}</h2>'\n",
    "        html_str+=df.to_html().replace('table','table style=\"display:inline\"')\n",
    "        html_str+='</td></th>'\n",
    "    display_html(html_str,raw=True)"
   ]
  },
  {
   "cell_type": "code",
   "execution_count": 13,
   "metadata": {},
   "outputs": [],
   "source": [
    "def cohort_analysis(data_set):\n",
    "    #Средний срок успешной сдачи экзамена\n",
    "    avg_srok = data_set.query('score >= 40 & assessment_type == \"Exam\"') \\\n",
    "    .groupby(['code_module', 'code_presentation'], as_index = False) \\\n",
    "    .agg({'date_submitted' : 'mean'}).round(2)\n",
    "    \n",
    "    #Общее количество сдачи экзаменов\n",
    "    number_split = data_set.query('assessment_type == \"Exam\" & score == score') \\\n",
    "    .groupby(['code_module', 'code_presentation'])['assessment_type'].value_counts().to_frame() \\\n",
    "    .rename({'assessment_type': 'num'}, axis='columns').reset_index() \n",
    "    \n",
    "    #Кол-во успешной сдачи экзаменов\n",
    "    success_split = data_set.query('assessment_type == \"Exam\" & score >= 40 & score == score') \\\n",
    "    .groupby(['code_module', 'code_presentation'])['assessment_type'].value_counts().to_frame() \\\n",
    "    .rename({'assessment_type': 'num'}, axis='columns').reset_index() \\\n",
    "    .rename({'num': 'success'}, axis='columns')\n",
    "    \n",
    "    #Соединяем дата-сеты: общее кол-во сдачи экз. & кол-во успешной сдачи экзаменов\n",
    "    gr_zavershaemost_split = number_split.merge(success_split, on = ['code_module', 'code_presentation', 'assessment_type'])\n",
    "\n",
    "    #Считаем формулу завершаемости \n",
    "    gr_zavershaemost_split['zavershaemost'] = round(gr_zavershaemost_split.success / gr_zavershaemost_split.num,2)\n",
    "    \n",
    "    #Удаляем ненужный колонки\n",
    "    gr_zavershaemost_split.drop(['assessment_type', 'num', 'success'], axis=1, inplace=True)\n",
    "    \n",
    "    #Соединяем средний срок успешной сдачи экз и завершаемости\n",
    "    cohort_data = avg_srok.merge(gr_zavershaemost_split, on = ['code_module', 'code_presentation'])\n",
    "\n",
    "    #Строим пивот таблицу для среднего срока успешной сдачи\n",
    "    srok_cohort = cohort_data.pivot_table(index = 'code_module', \n",
    "                                     columns = 'code_presentation', \n",
    "                                     values = 'date_submitted')\n",
    "\n",
    "    #Строим пивот таблицу для завершаемости\n",
    "    zavershaemost_cohort = cohort_data.pivot_table(index = 'code_module', \n",
    "                                     columns = 'code_presentation', \n",
    "                                     values = 'zavershaemost')\n",
    "    #Строим график\n",
    "    fig = plt.figure()\n",
    "    \n",
    "    #Распологаем два графика: слева и справа\n",
    "    ax1 = fig.add_subplot(221)\n",
    "    ax2 = fig.add_subplot(222)\n",
    "    \n",
    "    #Хитмап для среднего срока успешной сдачи \n",
    "    graph_srok = sns.heatmap(srok_cohort, annot = True, fmt = '', ax=ax1)\n",
    "    \n",
    "    #Хитмап для завершаемости\n",
    "    graph_zavershaemost = sns.heatmap(zavershaemost_cohort, annot = True, fmt = '')\n",
    "    \n",
    "    #Последовательно отображаем две пивот таблицы \n",
    "    print(display_side_by_side(srok_cohort, zavershaemost_cohort, titles=['Средний срок','Завершаемость']))"
   ]
  },
  {
   "cell_type": "code",
   "execution_count": 14,
   "metadata": {
    "scrolled": true
   },
   "outputs": [
    {
     "data": {
      "text/html": [
       "<th style=\"text-align:center\"><td style=\"vertical-align:top\"><h2>Средний срок</h2><table style=\"display:inline\" border=\"1\" class=\"dataframe\">\n",
       "  <thead>\n",
       "    <tr style=\"text-align: right;\">\n",
       "      <th>code_presentation</th>\n",
       "      <th>2013B</th>\n",
       "      <th>2013J</th>\n",
       "      <th>2014B</th>\n",
       "      <th>2014J</th>\n",
       "    </tr>\n",
       "    <tr>\n",
       "      <th>code_module</th>\n",
       "      <th></th>\n",
       "      <th></th>\n",
       "      <th></th>\n",
       "      <th></th>\n",
       "    </tr>\n",
       "  </thead>\n",
       "  <tbody>\n",
       "    <tr>\n",
       "      <th>CCC</th>\n",
       "      <td>NaN</td>\n",
       "      <td>NaN</td>\n",
       "      <td>231.58</td>\n",
       "      <td>244.4</td>\n",
       "    </tr>\n",
       "    <tr>\n",
       "      <th>DDD</th>\n",
       "      <td>230.16</td>\n",
       "      <td>239.51</td>\n",
       "      <td>234.94</td>\n",
       "      <td>242.8</td>\n",
       "    </tr>\n",
       "  </tbody>\n",
       "</table style=\"display:inline\"></td></th><th style=\"text-align:center\"><td style=\"vertical-align:top\"><h2>Завершаемость</h2><table style=\"display:inline\" border=\"1\" class=\"dataframe\">\n",
       "  <thead>\n",
       "    <tr style=\"text-align: right;\">\n",
       "      <th>code_presentation</th>\n",
       "      <th>2013B</th>\n",
       "      <th>2013J</th>\n",
       "      <th>2014B</th>\n",
       "      <th>2014J</th>\n",
       "    </tr>\n",
       "    <tr>\n",
       "      <th>code_module</th>\n",
       "      <th></th>\n",
       "      <th></th>\n",
       "      <th></th>\n",
       "      <th></th>\n",
       "    </tr>\n",
       "  </thead>\n",
       "  <tbody>\n",
       "    <tr>\n",
       "      <th>CCC</th>\n",
       "      <td>NaN</td>\n",
       "      <td>NaN</td>\n",
       "      <td>0.89</td>\n",
       "      <td>0.87</td>\n",
       "    </tr>\n",
       "    <tr>\n",
       "      <th>DDD</th>\n",
       "      <td>0.84</td>\n",
       "      <td>0.91</td>\n",
       "      <td>0.93</td>\n",
       "      <td>0.89</td>\n",
       "    </tr>\n",
       "  </tbody>\n",
       "</table style=\"display:inline\"></td></th>"
      ]
     },
     "metadata": {},
     "output_type": "display_data"
    },
    {
     "name": "stdout",
     "output_type": "stream",
     "text": [
      "None\n"
     ]
    },
    {
     "data": {
      "image/png": "[encoded data removed]",
      "text/plain": [
       "<Figure size 720x648 with 4 Axes>"
      ]
     },
     "metadata": {},
     "output_type": "display_data"
    }
   ],
   "source": [
    "#Применяем функцию\n",
    "cohort_analysis(examin_data_new)"
   ]
  },
  {
   "cell_type": "markdown",
   "metadata": {},
   "source": [
    "## Общий ответ на вопрос:\n",
    "\n",
    "1. Когортный анализ не супер хорошо подходит для этих данных, поскольку:\n",
    "    - наши студенты не перетекают во все семестры (когортный анализ предполагает это). Т.е. наши студенты не были во всех семестрах и предметах\n",
    "    - данных мало \n",
    "    - вариация маленькая\n",
    "    \n",
    "    \n",
    "2. Нужно посмотреть на когортный анализ по тестам (включая экзы), но условие задания этого не предполагает (да и я уверен, что их наличие не улучшит картину...)\n",
    "\n",
    "\n",
    "3. Основной вывод: нужно больше данных, чтобы хорошо описать когорты! А лучше предложить иной анализ / иные метрики... "
   ]
  }
 ],
 "metadata": {
  "kernelspec": {
   "display_name": "Python 3",
   "language": "python",
   "name": "python3"
  },
  "language_info": {
   "codemirror_mode": {
    "name": "ipython",
    "version": 3
   },
   "file_extension": ".py",
   "mimetype": "text/x-python",
   "name": "python",
   "nbconvert_exporter": "python",
   "pygments_lexer": "ipython3",
   "version": "3.7.3"
  }
 },
 "nbformat": 4,
 "nbformat_minor": 4
}
