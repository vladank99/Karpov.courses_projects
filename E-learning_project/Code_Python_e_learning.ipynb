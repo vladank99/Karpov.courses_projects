{
 "cells": [
  {
   "cell_type": "markdown",
   "metadata": {},
   "source": [
    "# Этот файл – описание заданий и дата-сетов "
   ]
  },
  {
   "cell_type": "markdown",
   "metadata": {},
   "source": [
    "# Библиотеки "
   ]
  },
  {
   "cell_type": "code",
   "execution_count": 4,
   "metadata": {},
   "outputs": [],
   "source": [
    "import pandas as pd "
   ]
  },
  {
   "cell_type": "markdown",
   "metadata": {},
   "source": [
    "# Дата-сеты и их описание\n",
    "\n",
    "##  Assessment \n",
    "\n",
    "Этот файл содержит информацию об оценках в тесте.  \n",
    "Обычно каждый предмет в семестре включает ряд тестов с оценками, за которыми следует заключительный экзаменационный тест (экзамен)\n",
    "\n",
    "- <span style=\"color:green\"> code_module </span> — идентификационный код предмета.  \n",
    "\n",
    "\n",
    "- <span style=\"color:green\">code_presentation </span> — семестр (Идентификационный код).\n",
    "\n",
    "\n",
    "- <span style=\"color:green\">id_assessment </span> — тест (Идентификационный номер ассессмента). \n",
    "\n",
    "\n",
    "- <span style=\"color:green\">assessment_type </span> — тип теста. Существуют три типа оценивания: оценка преподавателя (TMA),    \n",
    "    компьютерная оценка (СМА), экзамен по курсу (Exam).  \n",
    "    \n",
    "\n",
    "- <span style=\"color:green\">date </span> — информация об окончательной дате сдачи теста.     \n",
    "Рассчитывается как количество дней с момента начала семестра. Дата начала семестра имеет номер 0 (ноль).  \n",
    "\n",
    "\n",
    "- <span style=\"color:green\">weight </span> — вес теста в % в оценке за курс.    \n",
    "Обычно экзамены рассматриваются отдельно и имеют вес 100%; сумма всех остальных оценок составляет 100%.\n",
    "\n",
    "\n",
    "## Courses \n",
    "\n",
    "Файл содержит список предметов по семестрам\n",
    "\n",
    "- <span style=\"color:green\"> code_module </span> — предмет (идентификационный код).  \n",
    "\n",
    "\n",
    "- <span style=\"color:green\"> code_presentation </span> — семестр (идентификационный код).  \n",
    "\n",
    "\n",
    "- <span style=\"color:green\"> module_presentation_length </span>  — продолжительность семестра в днях.\n",
    "\n",
    "\n",
    "## Student Assessment\n",
    "\n",
    "Этот файл содержит результаты тестов студентов.  \n",
    "Если учащийся не отправляет работу на оценку, результат не записывается в таблицу\n",
    "\n",
    "- <span style=\"color:green\">id_assessment </span> — тест (идентификационный номер).\n",
    "\n",
    "\n",
    "- <span style=\"color:green\">id_student </span> — идентификационный номер студента.\n",
    "\n",
    "\n",
    "- <span style=\"color:green\">date_submitted </span> — дата сдачи теста студентом, измеряемая как количество дней с начала семестра.\n",
    "\n",
    "\n",
    "- <span style=\"color:green\">is_banked </span> — факт перезачета теста с прошлого семестра   \n",
    "(иногда курсы перезачитывают студентам, вернувшимся из академического отпуска).\n",
    "\n",
    "\n",
    "- <span style=\"color:green\">score </span> — оценка учащегося в этом тесте. Диапазон составляет от 0 до 100.  \n",
    "Оценка ниже 40 неудачная/неуспешная сдача теста.\n",
    "\n",
    "\n",
    "\n",
    "## Student Registration\n",
    "\n",
    "Этот файл содержит информацию о времени, когда студент зарегистрировался для прохождения курса в семестре\n",
    "\n",
    "- <span style=\"color:green\">code_module </span> — предмет (идентификационный код). \n",
    "\n",
    "\n",
    "- <span style=\"color:green\">code_presentation </span> — семестр (идентификационный код).\n",
    "\n",
    "\n",
    "- <span style=\"color:green\">id_student </span> — идентификационный номер студента.\n",
    "\n",
    "\n",
    "- <span style=\"color:green\">date_registration </span> — дата регистрации студента.  \n",
    "Это количество дней, измеренное от начала семестра  \n",
    "    (например, отрицательное значение -30 означает, что студент зарегистрировался на прохождение курса за 30 дней до его начала).\n",
    "    \n",
    "\n",
    "- <span style=\"color:green\">date_unregistration </span> — дата отмены регистрации студента с предмета.  \n",
    "    У студентов, окончивших курс, это поле остается пустым."
   ]
  },
  {
   "cell_type": "markdown",
   "metadata": {},
   "source": [
    "# Список заданий\n",
    "\n",
    "Продакт-менеджер Василий попросил вас проанализировать завершенные уроки и ответить на следующие вопросы:\n",
    "\n",
    "1. *Сколько студентов успешно сдали только один курс?* (Успешная сдача — это зачёт по курсу на экзамене) \n",
    "\n",
    "\n",
    "2. *Выяви самый сложный и самый простой экзамен*: найди курсы и экзамены в рамках курса, которые обладают самой низкой и самой высокой завершаемостью. \n",
    "\n",
    "\n",
    "3. *По каждому предмету определи средний срок сдачи экзаменов* (под сдачей понимаем последнее успешное прохождение экзамена студентом). \n",
    "\n",
    "\n",
    "4. *Выяви самые популярные курсы (ТОП-3) по количеству регистраций на них*. А также курсы с самым большим оттоком (ТОП-3). \n",
    "\n",
    "\n",
    "5. Напиши функцию на python, позволяющую строить *когортный (семестровый) анализ*. В период с начала 2013 по конец 2014 выяви семестр с самой низкой завершаемостью курсов и самыми долгими средними сроками сдачи курсов.\n",
    "\n",
    "\n",
    "6. Часто для качественного анализа аудитории использую подходы, основанные на сегментации. Используя python, построй адаптированные RFM-кластеры студентов, чтобы качественно оценить свою аудиторию. В адаптированной кластеризации можешь выбрать следующие метрики: R - среднее время сдачи одного экзамена, F - завершаемость курсов, M - среднее количество баллов, получаемое за экзамен. Подробно опиши, как ты создавал кластеры. Для каждого RFM-сегмента построй границы метрик recency, frequency и monetary для интерпретации этих кластеров. Пример такого описания: RFM-сегмент 132 (recency=1, frequency=3, monetary=2) имеет границы метрик recency от 130 до 500 дней, frequency от 0.1 до 0.5, monetary от 55 до 72 баллов."
   ]
  },
  {
   "cell_type": "markdown",
   "metadata": {},
   "source": [
    "# Грузим дата-сеты"
   ]
  },
  {
   "cell_type": "code",
   "execution_count": 5,
   "metadata": {},
   "outputs": [],
   "source": [
    "import pandas as pd \n",
    "assesments = pd.read_csv('/home/jupyter-v-ankushev-18/Project_2_online/assessments.csv')\n",
    "courses = pd.read_csv('/home/jupyter-v-ankushev-18/Project_2_online/courses.csv')\n",
    "student_assesment = pd.read_csv('/home/jupyter-v-ankushev-18/Project_2_online/studentAssessment.csv')\n",
    "student_registration = pd.read_csv('/home/jupyter-v-ankushev-18/Project_2_online/studentRegistration.csv')"
   ]
  },
  {
   "cell_type": "markdown",
   "metadata": {},
   "source": [
    "# Связываем дата-сеты"
   ]
  },
  {
   "cell_type": "code",
   "execution_count": 6,
   "metadata": {},
   "outputs": [],
   "source": [
    "courses_reg = pd.merge(courses,student_registration,on=['code_module', 'code_presentation'])\n",
    "ocenki = pd.merge(courses_reg, assesments,on= ['code_module', 'code_presentation'])\n",
    "full_ocenki = pd.merge(ocenki, student_assesment,on=['id_assessment', 'id_student'])"
   ]
  }
 ],
 "metadata": {
  "kernelspec": {
   "display_name": "Python 3",
   "language": "python",
   "name": "python3"
  },
  "language_info": {
   "codemirror_mode": {
    "name": "ipython",
    "version": 3
   },
   "file_extension": ".py",
   "mimetype": "text/x-python",
   "name": "python",
   "nbconvert_exporter": "python",
   "pygments_lexer": "ipython3",
   "version": "3.7.3"
  }
 },
 "nbformat": 4,
 "nbformat_minor": 4
}
