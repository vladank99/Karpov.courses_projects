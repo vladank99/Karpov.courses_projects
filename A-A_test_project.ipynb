{
 "cells": [
  {
   "cell_type": "markdown",
   "metadata": {},
   "source": [
    "## ПРОЕКТ – A/A ТЕСТЫ И ПРОВЕРКА КАЧЕСТВА СИСТЕМ СПЛИТОВАНИЯ\n",
    "Выполнил: Анкушев Владислав"
   ]
  },
  {
   "cell_type": "markdown",
   "metadata": {},
   "source": [
    "### Описание задания\n",
    "- А/А-тестирование мобильного приложения.   \n",
    "- Необходимо посчитать результаты A/A-теста, проверяя метрику качества FPR (будем проверять на конверсии в покупку).   \n",
    "- Известно, что сплит-система сломана.   \n",
    "- Требуется проверить утверждение о поломке и найти ее причины, если сплит-система действительно сломана"
   ]
  },
  {
   "cell_type": "markdown",
   "metadata": {},
   "source": [
    "### Описание колонок\n",
    "- **experimentVariant** – вариант эксперимента\n",
    "- **version** – версия приложения\n",
    "- **purchase** – факт покупки\n"
   ]
  },
  {
   "cell_type": "markdown",
   "metadata": {},
   "source": [
    "---\n",
    "### Задача\n",
    "1. Запустите A/A-тест\n",
    "\n",
    "\n",
    "2. Посчитайте FPR на уровне альфа = 0.05 (ставьте подвыборки без возвращения объемом 1000).  \n",
    "    Вы увидите, что FPR > альфа! Нам нужно наоборот – чтобы было меньше.\n",
    "    \n",
    "    \n",
    "3. Найдите причины поломки сплит-системы, ориентируясь на результаты эксперимента (подсказка: найдите аномалию в версии приложения)\n",
    "\n",
    "\n",
    "4. Напишите выводы, которые можно сделать на основе анализа результатов A/A-теста\n"
   ]
  },
  {
   "cell_type": "markdown",
   "metadata": {},
   "source": [
    "### Ответ: как найти причины поломки?\n",
    "\n",
    "Вам доступна версия мобильного приложения (МП) каждого пользователя. Эту полезную информацию можно использовать для исследования проблемы:\n",
    "\n",
    "1. Посчитайте конверсию (коэффициент покупок), группируя по варианту и версии МП. Возможно уже станет ясно где именно причины поломки\n",
    "\n",
    "\n",
    "2. Посчитайте pvalue для каждой версии МП\n",
    "\n",
    "\n",
    "3. Найдите версии, где pvalue < 0.05\n",
    "\n",
    "\n",
    "4. Исключите версию с pvalue < 0.05 из основного датафрейма\n",
    "\n",
    "\n",
    "5. Повторно запустите расчет FPR через A/A. Теперь FPR < альфа\n",
    "\n",
    "\n",
    "6. Вы нашли поломку"
   ]
  },
  {
   "cell_type": "markdown",
   "metadata": {},
   "source": [
    "---\n",
    "### Загружаем библиотеки"
   ]
  },
  {
   "cell_type": "code",
   "execution_count": 50,
   "metadata": {},
   "outputs": [],
   "source": [
    "import numpy as np\n",
    "import pandas as pd\n",
    "from scipy import stats\n",
    "import matplotlib.pyplot as plt\n",
    "import itertools\n",
    "from scipy.stats import norm\n",
    "from statsmodels.stats.contingency_tables import StratifiedTable\n",
    "from statsmodels.graphics.mosaicplot import mosaic\n",
    "from tqdm.auto import tqdm\n",
    "import seaborn as sns\n",
    "sns.set(rc={'figure.figsize':(10,8)})"
   ]
  },
  {
   "cell_type": "markdown",
   "metadata": {},
   "source": [
    "### Загружаем дата-сет "
   ]
  },
  {
   "cell_type": "code",
   "execution_count": 5,
   "metadata": {},
   "outputs": [],
   "source": [
    "#Загрузка дата-сета\n",
    "data = pd.read_csv('/mnt/HC_Volume_18315164/home-jupyter/jupyter-v-ankushev-18/Statistics/hw_aa (1).csv', sep =';')\n",
    "\n",
    "#Удаляем айди колонку \n",
    "data = data.drop(columns = ['Unnamed: 0'])"
   ]
  },
  {
   "cell_type": "markdown",
   "metadata": {},
   "source": [
    "### Сразу же проверим A/A-тест"
   ]
  },
  {
   "cell_type": "code",
   "execution_count": 51,
   "metadata": {},
   "outputs": [
    {
     "data": {
      "application/vnd.jupyter.widget-view+json": {
       "model_id": "e9eb2cb6a0dd43e4b12a43d00b0c6ad3",
       "version_major": 2,
       "version_minor": 0
      },
      "text/plain": [
       "HBox(children=(FloatProgress(value=0.0, max=1000.0), HTML(value='')))"
      ]
     },
     "metadata": {},
     "output_type": "display_data"
    },
    {
     "name": "stdout",
     "output_type": "stream",
     "text": [
      "\n"
     ]
    },
    {
     "data": {
      "image/png": "[encoded data removed]",
      "text/plain": [
       "<Figure size 720x576 with 1 Axes>"
      ]
     },
     "metadata": {},
     "output_type": "display_data"
    },
    {
     "data": {
      "text/plain": [
       "0.927"
      ]
     },
     "execution_count": 51,
     "metadata": {},
     "output_type": "execute_result"
    }
   ],
   "source": [
    "n = 100000\n",
    "simulations = 1000\n",
    "n_s = 1000\n",
    "res = []\n",
    "\n",
    "# Запуск симуляций A/A теста\n",
    "for i in tqdm(range(simulations)):\n",
    "    s1 = data[data.experimentVariant == 0]['purchase'].sample(n_s, replace = False).values\n",
    "    s2 = data[data.experimentVariant == 1]['purchase'].sample(n_s, replace = False).values\n",
    "    res.append(stats.ttest_ind(s1, s2, equal_var = False)[1]) # сохраняем pvalue\n",
    "\n",
    "plt.hist(res, bins = 50)\n",
    "plt.style.use('ggplot')\n",
    "plt.xlabel('pvalues')\n",
    "plt.ylabel('frequency')\n",
    "plt.title(\"Histogram of ttest A/A simulations \")\n",
    "plt.show()\n",
    "\n",
    "# Проверяем, что количество ложноположительных случаев не превышает альфа\n",
    "sum(np.array(res) <0.05) / simulations"
   ]
  },
  {
   "cell_type": "markdown",
   "metadata": {},
   "source": [
    "#### Интепретация \n",
    "1. Количество стат.значимых различий очень большое!   \n",
    "\n",
    "\n",
    "2. Практически в 95% случаев мы получаем стат. значимый результат "
   ]
  },
  {
   "cell_type": "markdown",
   "metadata": {},
   "source": [
    "### Поиск проблемы\n",
    "Посмотрим на коэф. конверсии в двух версиях | группах эксперимента \n"
   ]
  },
  {
   "cell_type": "code",
   "execution_count": 52,
   "metadata": {},
   "outputs": [],
   "source": [
    "#Количество всех наблюдений\n",
    "num_all_data = data.purchase.count()"
   ]
  },
  {
   "cell_type": "code",
   "execution_count": 53,
   "metadata": {},
   "outputs": [
    {
     "data": {
      "text/html": [
       "<div>\n",
       "<style scoped>\n",
       "    .dataframe tbody tr th:only-of-type {\n",
       "        vertical-align: middle;\n",
       "    }\n",
       "\n",
       "    .dataframe tbody tr th {\n",
       "        vertical-align: top;\n",
       "    }\n",
       "\n",
       "    .dataframe thead th {\n",
       "        text-align: right;\n",
       "    }\n",
       "</style>\n",
       "<table border=\"1\" class=\"dataframe\">\n",
       "  <thead>\n",
       "    <tr style=\"text-align: right;\">\n",
       "      <th></th>\n",
       "      <th>experimentVariant</th>\n",
       "      <th>version</th>\n",
       "      <th>purchase</th>\n",
       "      <th>conversion_rate</th>\n",
       "    </tr>\n",
       "  </thead>\n",
       "  <tbody>\n",
       "    <tr>\n",
       "      <th>0</th>\n",
       "      <td>0</td>\n",
       "      <td>v2.8.0</td>\n",
       "      <td>41283</td>\n",
       "      <td>33.0</td>\n",
       "    </tr>\n",
       "    <tr>\n",
       "      <th>1</th>\n",
       "      <td>0</td>\n",
       "      <td>v2.9.0</td>\n",
       "      <td>11921</td>\n",
       "      <td>9.0</td>\n",
       "    </tr>\n",
       "    <tr>\n",
       "      <th>2</th>\n",
       "      <td>0</td>\n",
       "      <td>v3.7.4.0</td>\n",
       "      <td>4204</td>\n",
       "      <td>3.0</td>\n",
       "    </tr>\n",
       "    <tr>\n",
       "      <th>3</th>\n",
       "      <td>0</td>\n",
       "      <td>v3.8.0.0</td>\n",
       "      <td>5694</td>\n",
       "      <td>4.0</td>\n",
       "    </tr>\n",
       "    <tr>\n",
       "      <th>4</th>\n",
       "      <td>1</td>\n",
       "      <td>v2.8.0</td>\n",
       "      <td>41552</td>\n",
       "      <td>33.0</td>\n",
       "    </tr>\n",
       "    <tr>\n",
       "      <th>5</th>\n",
       "      <td>1</td>\n",
       "      <td>v2.9.0</td>\n",
       "      <td>12033</td>\n",
       "      <td>9.0</td>\n",
       "    </tr>\n",
       "    <tr>\n",
       "      <th>6</th>\n",
       "      <td>1</td>\n",
       "      <td>v3.7.4.0</td>\n",
       "      <td>4221</td>\n",
       "      <td>3.0</td>\n",
       "    </tr>\n",
       "    <tr>\n",
       "      <th>7</th>\n",
       "      <td>1</td>\n",
       "      <td>v3.8.0.0</td>\n",
       "      <td>6110</td>\n",
       "      <td>5.0</td>\n",
       "    </tr>\n",
       "  </tbody>\n",
       "</table>\n",
       "</div>"
      ],
      "text/plain": [
       "   experimentVariant   version  purchase  conversion_rate\n",
       "0                  0    v2.8.0     41283             33.0\n",
       "1                  0    v2.9.0     11921              9.0\n",
       "2                  0  v3.7.4.0      4204              3.0\n",
       "3                  0  v3.8.0.0      5694              4.0\n",
       "4                  1    v2.8.0     41552             33.0\n",
       "5                  1    v2.9.0     12033              9.0\n",
       "6                  1  v3.7.4.0      4221              3.0\n",
       "7                  1  v3.8.0.0      6110              5.0"
      ]
     },
     "execution_count": 53,
     "metadata": {},
     "output_type": "execute_result"
    }
   ],
   "source": [
    "#Группируем данные \n",
    "conversion = data.groupby(['experimentVariant', 'version'], as_index = False) \\\n",
    "    .agg({'purchase' : 'count'}) \n",
    "\n",
    "#Создаем колонку и считаем процент конверсии\n",
    "conversion['conversion_rate'] = round(conversion.purchase / num_all_data,2) * 100\n",
    "\n",
    "#Выводим данные \n",
    "conversion"
   ]
  },
  {
   "cell_type": "markdown",
   "metadata": {},
   "source": [
    "#### Интерпретация:\n",
    "- В обеих группах версия – \"v2.8.0\" имеет наибольшую конверсию.   \n",
    "    Возможно, сплит-система ошиблась и произошел перевес клиентов с версией v2.8.0"
   ]
  },
  {
   "cell_type": "markdown",
   "metadata": {},
   "source": [
    "### Для более точной оценки воспользуемся критерием Кохрана-Мантеля-Ханзеля\n",
    "- 2: группа\n",
    "- 2: купил / не купил\n",
    "- n: версия продукта"
   ]
  },
  {
   "cell_type": "code",
   "execution_count": 54,
   "metadata": {
    "scrolled": true
   },
   "outputs": [
    {
     "data": {
      "text/html": [
       "<table class=\"simpletable\">\n",
       "<tr>\n",
       "          <td></td>          <th>Estimate</th>    <th>LCB</th>    <th>UCB</th> \n",
       "</tr>\n",
       "<tr>\n",
       "  <th>Pooled odds</th>           <td>2.300</td>   <td>2.161</td> <td>2.447</td>\n",
       "</tr>\n",
       "<tr>\n",
       "  <th>Pooled log odds</th>       <td>0.833</td>   <td>0.771</td> <td>0.895</td>\n",
       "</tr>\n",
       "<tr>\n",
       "  <th>Pooled risk ratio</th>     <td>1.031</td>        <td></td>      <td></td>\n",
       "</tr>\n",
       "<tr>\n",
       "  <th></th>                           <td></td>        <td></td>      <td></td>\n",
       "</tr>\n",
       "<tr>\n",
       "          <td></td>         <th>Statistic</th> <th>P-value</th> <th></th>\n",
       "</tr>\n",
       "<tr>\n",
       "  <th>Test of OR=1</th>       <td>734.655</td>   <td>0.000</td> <td></td>\n",
       "</tr>\n",
       "<tr>\n",
       "  <th>Test constant OR</th>  <td>1256.880</td>   <td>0.000</td> <td></td>\n",
       "</tr>\n",
       "<tr>\n",
       "          <td></td>            <th></th>    <th></th> <th></th>\n",
       "</tr>\n",
       "<tr>\n",
       "  <th>Number of tables</th>      <td>4</td> <td></td> <td></td>\n",
       "</tr>\n",
       "<tr>\n",
       "  <th>Min n</th>              <td>8425</td> <td></td> <td></td>\n",
       "</tr>\n",
       "<tr>\n",
       "  <th>Max n</th>             <td>82835</td> <td></td> <td></td>\n",
       "</tr>\n",
       "<tr>\n",
       "  <th>Avg n</th>             <td>31754</td> <td></td> <td></td>\n",
       "</tr>\n",
       "<tr>\n",
       "  <th>Total n</th>          <td>127018</td> <td></td> <td></td>\n",
       "</tr>\n",
       "</table>"
      ],
      "text/plain": [
       "<class 'statsmodels.iolib.table.SimpleTable'>"
      ]
     },
     "execution_count": 54,
     "metadata": {},
     "output_type": "execute_result"
    }
   ],
   "source": [
    "StratifiedTable.from_data('experimentVariant', 'purchase', 'version', data).summary()"
   ]
  },
  {
   "cell_type": "markdown",
   "metadata": {},
   "source": [
    "**Интерпретация**:   \n",
    "Согласно полученной таблице можно сказать, что покупка связана с переменной группы.   \n",
    "Причем эта связь разная, в зависимости от уровня версии продукта. "
   ]
  },
  {
   "cell_type": "markdown",
   "metadata": {},
   "source": [
    "### Построим heatmap, чтобы посмотреть, какие группы различаются\n",
    "\n",
    "Нужно склеить колонки experimentVariant и purchase (сделать их как одну, поскольку heatmap имеет 2д размер)"
   ]
  },
  {
   "cell_type": "code",
   "execution_count": 55,
   "metadata": {},
   "outputs": [
    {
     "data": {
      "text/html": [
       "<div>\n",
       "<style scoped>\n",
       "    .dataframe tbody tr th:only-of-type {\n",
       "        vertical-align: middle;\n",
       "    }\n",
       "\n",
       "    .dataframe tbody tr th {\n",
       "        vertical-align: top;\n",
       "    }\n",
       "\n",
       "    .dataframe thead th {\n",
       "        text-align: right;\n",
       "    }\n",
       "</style>\n",
       "<table border=\"1\" class=\"dataframe\">\n",
       "  <thead>\n",
       "    <tr style=\"text-align: right;\">\n",
       "      <th></th>\n",
       "      <th>uid</th>\n",
       "      <th>experimentVariant</th>\n",
       "      <th>version</th>\n",
       "      <th>purchase</th>\n",
       "      <th>group</th>\n",
       "    </tr>\n",
       "  </thead>\n",
       "  <tbody>\n",
       "    <tr>\n",
       "      <th>0</th>\n",
       "      <td>c4ca4238a0b923820dcc509a6f75849b</td>\n",
       "      <td>1</td>\n",
       "      <td>v2.8.0</td>\n",
       "      <td>0</td>\n",
       "      <td>experiment_no</td>\n",
       "    </tr>\n",
       "    <tr>\n",
       "      <th>1</th>\n",
       "      <td>c81e728d9d4c2f636f067f89cc14862c</td>\n",
       "      <td>0</td>\n",
       "      <td>v2.9.0</td>\n",
       "      <td>0</td>\n",
       "      <td>control_no</td>\n",
       "    </tr>\n",
       "    <tr>\n",
       "      <th>2</th>\n",
       "      <td>eccbc87e4b5ce2fe28308fd9f2a7baf3</td>\n",
       "      <td>1</td>\n",
       "      <td>v2.9.0</td>\n",
       "      <td>0</td>\n",
       "      <td>experiment_no</td>\n",
       "    </tr>\n",
       "    <tr>\n",
       "      <th>3</th>\n",
       "      <td>a87ff679a2f3e71d9181a67b7542122c</td>\n",
       "      <td>1</td>\n",
       "      <td>v2.8.0</td>\n",
       "      <td>0</td>\n",
       "      <td>experiment_no</td>\n",
       "    </tr>\n",
       "    <tr>\n",
       "      <th>4</th>\n",
       "      <td>e4da3b7fbbce2345d7772b0674a318d5</td>\n",
       "      <td>1</td>\n",
       "      <td>v2.8.0</td>\n",
       "      <td>0</td>\n",
       "      <td>experiment_no</td>\n",
       "    </tr>\n",
       "    <tr>\n",
       "      <th>...</th>\n",
       "      <td>...</td>\n",
       "      <td>...</td>\n",
       "      <td>...</td>\n",
       "      <td>...</td>\n",
       "      <td>...</td>\n",
       "    </tr>\n",
       "    <tr>\n",
       "      <th>127013</th>\n",
       "      <td>d1f082ede77b17a99a9b0b240daf7bdf</td>\n",
       "      <td>0</td>\n",
       "      <td>v2.8.0</td>\n",
       "      <td>0</td>\n",
       "      <td>control_no</td>\n",
       "    </tr>\n",
       "    <tr>\n",
       "      <th>127014</th>\n",
       "      <td>94f0d540830ccdc6b29c1938eea445cc</td>\n",
       "      <td>0</td>\n",
       "      <td>v2.8.0</td>\n",
       "      <td>0</td>\n",
       "      <td>control_no</td>\n",
       "    </tr>\n",
       "    <tr>\n",
       "      <th>127015</th>\n",
       "      <td>709f74cf9721328e98be6f216e8a05a8</td>\n",
       "      <td>1</td>\n",
       "      <td>v2.9.0</td>\n",
       "      <td>0</td>\n",
       "      <td>experiment_no</td>\n",
       "    </tr>\n",
       "    <tr>\n",
       "      <th>127016</th>\n",
       "      <td>1767ae3f8ffec269d9ed0ac0ede68d90</td>\n",
       "      <td>1</td>\n",
       "      <td>v2.8.0</td>\n",
       "      <td>0</td>\n",
       "      <td>experiment_no</td>\n",
       "    </tr>\n",
       "    <tr>\n",
       "      <th>127017</th>\n",
       "      <td>8dd8503c49b5e8c6aaea1ed7f0c49765</td>\n",
       "      <td>1</td>\n",
       "      <td>v2.8.0</td>\n",
       "      <td>0</td>\n",
       "      <td>experiment_no</td>\n",
       "    </tr>\n",
       "  </tbody>\n",
       "</table>\n",
       "<p>127018 rows × 5 columns</p>\n",
       "</div>"
      ],
      "text/plain": [
       "                                     uid  experimentVariant version  purchase  \\\n",
       "0       c4ca4238a0b923820dcc509a6f75849b                  1  v2.8.0         0   \n",
       "1       c81e728d9d4c2f636f067f89cc14862c                  0  v2.9.0         0   \n",
       "2       eccbc87e4b5ce2fe28308fd9f2a7baf3                  1  v2.9.0         0   \n",
       "3       a87ff679a2f3e71d9181a67b7542122c                  1  v2.8.0         0   \n",
       "4       e4da3b7fbbce2345d7772b0674a318d5                  1  v2.8.0         0   \n",
       "...                                  ...                ...     ...       ...   \n",
       "127013  d1f082ede77b17a99a9b0b240daf7bdf                  0  v2.8.0         0   \n",
       "127014  94f0d540830ccdc6b29c1938eea445cc                  0  v2.8.0         0   \n",
       "127015  709f74cf9721328e98be6f216e8a05a8                  1  v2.9.0         0   \n",
       "127016  1767ae3f8ffec269d9ed0ac0ede68d90                  1  v2.8.0         0   \n",
       "127017  8dd8503c49b5e8c6aaea1ed7f0c49765                  1  v2.8.0         0   \n",
       "\n",
       "                group  \n",
       "0       experiment_no  \n",
       "1          control_no  \n",
       "2       experiment_no  \n",
       "3       experiment_no  \n",
       "4       experiment_no  \n",
       "...               ...  \n",
       "127013     control_no  \n",
       "127014     control_no  \n",
       "127015  experiment_no  \n",
       "127016  experiment_no  \n",
       "127017  experiment_no  \n",
       "\n",
       "[127018 rows x 5 columns]"
      ]
     },
     "execution_count": 55,
     "metadata": {},
     "output_type": "execute_result"
    }
   ],
   "source": [
    "data['experimentVariant2'] = np.where(data['experimentVariant'] == 0, 'control', 'experiment')\n",
    "data['purchase_2'] = np.where(data['purchase'] == 0, 'no', 'buy')\n",
    "data['group'] = data['experimentVariant2'] + \"_\" + data.purchase_2.astype(str)\n",
    "data = data.drop(columns = ['experimentVariant2', 'purchase_2'])\n",
    "data"
   ]
  },
  {
   "cell_type": "code",
   "execution_count": 57,
   "metadata": {
    "scrolled": false
   },
   "outputs": [
    {
     "data": {
      "text/plain": [
       "(<Figure size 720x576 with 3 Axes>,\n",
       " {('experiment_no', 'v2.8.0'): (0.0,\n",
       "   0.0,\n",
       "   0.4693722087564176,\n",
       "   0.6488582029587621),\n",
       "  ('experiment_no', 'v2.9.0'): (0.0,\n",
       "   0.6521585329917653,\n",
       "   0.4693722087564176,\n",
       "   0.1828426360557824),\n",
       "  ('experiment_no', 'v3.7.4.0'): (0.0,\n",
       "   0.8383014990805511,\n",
       "   0.4693722087564176,\n",
       "   0.0647107494944626),\n",
       "  ('experiment_no', 'v3.8.0.0'): (0.0,\n",
       "   0.906312578608017,\n",
       "   0.4693722087564176,\n",
       "   0.09368742139198308),\n",
       "  ('control_no', 'v2.8.0'): (0.47429831713080184,\n",
       "   0.0,\n",
       "   0.47773377141302725,\n",
       "   0.6629810096659681),\n",
       "  ('control_no', 'v2.9.0'): (0.47429831713080184,\n",
       "   0.6662813396989713,\n",
       "   0.47773377141302725,\n",
       "   0.17732756698572555),\n",
       "  ('control_no', 'v3.7.4.0'): (0.47429831713080184,\n",
       "   0.8469092367177002,\n",
       "   0.47773377141302725,\n",
       "   0.06352991974685768),\n",
       "  ('control_no', 'v3.8.0.0'): (0.47429831713080184,\n",
       "   0.9137394864975611,\n",
       "   0.47773377141302725,\n",
       "   0.08626051350243887),\n",
       "  ('control_buy', 'v2.8.0'): (0.9569581969182134,\n",
       "   0.0,\n",
       "   0.01172014951218655,\n",
       "   0.02686569120181376),\n",
       "  ('control_buy', 'v2.9.0'): (0.9569581969182134,\n",
       "   0.03016602123481706,\n",
       "   0.01172014951218655,\n",
       "   0.5831820773076646),\n",
       "  ('control_buy', 'v3.7.4.0'): (0.9569581969182134,\n",
       "   0.616648428575485,\n",
       "   0.01172014951218655,\n",
       "   0.16512571177700167),\n",
       "  ('control_buy', 'v3.8.0.0'): (0.9569581969182134,\n",
       "   0.7850744703854898,\n",
       "   0.01172014951218655,\n",
       "   0.21492552961451014),\n",
       "  ('experiment_buy', 'v2.8.0'): (0.9736044548047841,\n",
       "   0.0,\n",
       "   0.026395545195215756,\n",
       "   0.5513481115963491),\n",
       "  ('experiment_buy', 'v2.9.0'): (0.9736044548047841,\n",
       "   0.5546484416293523,\n",
       "   0.026395545195215756,\n",
       "   0.24963413179401991),\n",
       "  ('experiment_buy', 'v3.7.4.0'): (0.9736044548047841,\n",
       "   0.8075829034563757,\n",
       "   0.026395545195215756,\n",
       "   0.07739239983357725),\n",
       "  ('experiment_buy', 'v3.8.0.0'): (0.9736044548047841,\n",
       "   0.8882756333229562,\n",
       "   0.026395545195215756,\n",
       "   0.1117243666770438)})"
      ]
     },
     "execution_count": 57,
     "metadata": {},
     "output_type": "execute_result"
    },
    {
     "data": {
      "image/png": "[encoded data removed]",
      "text/plain": [
       "<Figure size 720x576 with 3 Axes>"
      ]
     },
     "metadata": {},
     "output_type": "display_data"
    }
   ],
   "source": [
    "#Строим хит-мап\n",
    "mosaic(data, ['group', 'version'])"
   ]
  },
  {
   "cell_type": "markdown",
   "metadata": {},
   "source": [
    "#### Получился дурацкий, но информативный график:\n",
    "1. Те, кто не покупают > тех, кто покупают \n",
    "2. Самый большой перевес приходится на версию v2.8.0\n",
    "3. Необходимо проверить результаты A/A теста без этой версии!"
   ]
  },
  {
   "cell_type": "markdown",
   "metadata": {},
   "source": [
    "### Попробуем удалить клиентов с этой версией и посмотрим на результаты A/A теста"
   ]
  },
  {
   "cell_type": "code",
   "execution_count": 65,
   "metadata": {},
   "outputs": [],
   "source": [
    "#Запихнем это в фунцию\n",
    "\n",
    "def a_a_test(version):\n",
    "    n = 100000\n",
    "    simulations = 1000\n",
    "    n_s = 1000\n",
    "    res = []\n",
    "\n",
    "\n",
    "# Запуск симуляций A/A теста\n",
    "    for i in tqdm(range(simulations)):\n",
    "        s1 = data[(data.experimentVariant == 0) & (data.version != version)]['purchase'].sample(n_s, replace = False).values\n",
    "        s2 = data[(data.experimentVariant == 1) & (data.version != version)]['purchase'].sample(n_s, replace = False).values\n",
    "        res.append(stats.ttest_ind(s1, s2, equal_var = False)[1]) # сохраняем pvalue\n",
    "\n",
    "    plt.hist(res, bins = 50)\n",
    "    plt.style.use('ggplot')\n",
    "    plt.xlabel('pvalues')\n",
    "    plt.ylabel('frequency')\n",
    "    plt.title(\"Histogram of ttest A/A simulations \")\n",
    "    plt.show()\n",
    "\n",
    "# Проверяем, что количество ложноположительных случаев не превышает альфа\n",
    "    p_value = sum(np.array(res) <0.05) / simulations\n",
    "    \n",
    "    return p_value"
   ]
  },
  {
   "cell_type": "code",
   "execution_count": 66,
   "metadata": {
    "scrolled": true
   },
   "outputs": [
    {
     "data": {
      "application/vnd.jupyter.widget-view+json": {
       "model_id": "64a4fe741010409496c1de42296faa05",
       "version_major": 2,
       "version_minor": 0
      },
      "text/plain": [
       "HBox(children=(FloatProgress(value=0.0, max=1000.0), HTML(value='')))"
      ]
     },
     "metadata": {},
     "output_type": "display_data"
    },
    {
     "name": "stdout",
     "output_type": "stream",
     "text": [
      "\n"
     ]
    },
    {
     "data": {
      "image/png": "[encoded data removed]",
      "text/plain": [
       "<Figure size 720x576 with 1 Axes>"
      ]
     },
     "metadata": {},
     "output_type": "display_data"
    },
    {
     "data": {
      "text/plain": [
       "0.039"
      ]
     },
     "execution_count": 66,
     "metadata": {},
     "output_type": "execute_result"
    }
   ],
   "source": [
    "a_a_test('v2.8.0')"
   ]
  },
  {
   "cell_type": "markdown",
   "metadata": {},
   "source": [
    "### Интерпретация: \n",
    "- FPR < 0.05. Теперь только в 4 случаях мы получаем стат. значимый результат. \n",
    "\n",
    "\n",
    "- Возможно, вся проблема сплит системы кроется в версии – \"v2.8.0\", поскольку по показателю конверсии и КМХ критерия эта группа является выбросом относительно других\n",
    "\n",
    "\n",
    "### Вывод:\n",
    "- Необходимо исправить алгоритм показа теста для версии v2.8.0"
   ]
  }
 ],
 "metadata": {
  "kernelspec": {
   "display_name": "Python 3",
   "language": "python",
   "name": "python3"
  },
  "language_info": {
   "codemirror_mode": {
    "name": "ipython",
    "version": 3
   },
   "file_extension": ".py",
   "mimetype": "text/x-python",
   "name": "python",
   "nbconvert_exporter": "python",
   "pygments_lexer": "ipython3",
   "version": "3.7.3"
  }
 },
 "nbformat": 4,
 "nbformat_minor": 4
}
