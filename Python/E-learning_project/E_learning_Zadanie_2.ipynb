{
 "cells": [
  {
   "cell_type": "markdown",
   "metadata": {},
   "source": [
    "# Это Страница с решением задания №2"
   ]
  },
  {
   "cell_type": "markdown",
   "metadata": {},
   "source": [
    "### Вопрос: \n",
    "- Выяви самый сложный и самый простой экзамен\n",
    "- Найди курсы и экзамены в рамках курса, которые обладают самой низкой и самой высокой завершаемостью. \n",
    "\n",
    "- Завершаемость = кол-во успешных экзов / общее кол-во попыток сдать экз"
   ]
  },
  {
   "cell_type": "markdown",
   "metadata": {},
   "source": [
    "### Основная логика действий:\n",
    "\n",
    "1. Создаем отдельный дата-сет для тех, кто сдавал экзамен (условие в задании: выявить самый простой и сложный экзамен)\n",
    "2. Посмотреть студентов, кто не сдавал экзамены (не зарегистрировался на него) \n",
    "3. Посмотреть, есть ли пересдачники на экзамене \n",
    "4. Посмотреть на студентов, у кого оценка NA за экзамен\n",
    "5. Посмотреть процент завершаемости экзаменов у студентов – семестр / предмет \n",
    "6. Посмотреть процент завершаемости экзаменов у студентов – семестр \n",
    "7. Посмотреть процент завершаемости экзаменов у студентов – предмет\n",
    "8. Посмотреть связь семестра / предмета / семестра + предмета с успешной сдачей экзамена (хи-тест)\n"
   ]
  },
  {
   "cell_type": "markdown",
   "metadata": {},
   "source": [
    "### Либы + настройки для графиков"
   ]
  },
  {
   "cell_type": "code",
   "execution_count": 1,
   "metadata": {},
   "outputs": [],
   "source": [
    "import numpy as np\n",
    "import seaborn as sns\n",
    "import pandas as pd\n",
    "from matplotlib import pyplot as plt\n",
    "from scipy.stats import chi2_contingency\n",
    "from statsmodels.graphics.mosaicplot import mosaic\n",
    "\n",
    "sns.set(rc={'figure.figsize':(10,7)})"
   ]
  },
  {
   "cell_type": "markdown",
   "metadata": {},
   "source": [
    "### Грузим дата-сеты "
   ]
  },
  {
   "cell_type": "code",
   "execution_count": 2,
   "metadata": {},
   "outputs": [],
   "source": [
    "#Качаем дата-сеты\n",
    "assesments = pd.read_csv('/home/jupyter-v-ankushev-18/Project_2_online/assessments.csv')\n",
    "courses = pd.read_csv('/home/jupyter-v-ankushev-18/Project_2_online/courses.csv')\n",
    "student_assesment = pd.read_csv('/home/jupyter-v-ankushev-18/Project_2_online/studentAssessment.csv')\n",
    "student_registration = pd.read_csv('/home/jupyter-v-ankushev-18/Project_2_online/studentRegistration.csv')\n",
    "\n",
    "#Связываем дата-сеты\n",
    "courses_reg = pd.merge(courses,student_registration,on=['code_module', 'code_presentation'])\n",
    "ocenki = pd.merge(courses_reg, assesments,on= ['code_module', 'code_presentation'])\n",
    "full_ocenki = pd.merge(ocenki, student_assesment,on=['id_assessment', 'id_student'])"
   ]
  },
  {
   "cell_type": "markdown",
   "metadata": {},
   "source": [
    "### Создаем дата-сет со студентами, которые сдавали экз"
   ]
  },
  {
   "cell_type": "code",
   "execution_count": 5,
   "metadata": {},
   "outputs": [],
   "source": [
    "#Список критерий\n",
    "examini = full_ocenki[full_ocenki['assessment_type'] == \"Exam\"].id_student.unique().tolist()\n",
    "\n",
    "#Дата-сет с экзаменами\n",
    "examin_data = full_ocenki[full_ocenki.id_student.isin(examini)]"
   ]
  },
  {
   "cell_type": "markdown",
   "metadata": {},
   "source": [
    "### Выявляем студента, кто дропнулся с предмета"
   ]
  },
  {
   "cell_type": "code",
   "execution_count": 6,
   "metadata": {},
   "outputs": [
    {
     "data": {
      "text/html": [
       "<div>\n",
       "<style scoped>\n",
       "    .dataframe tbody tr th:only-of-type {\n",
       "        vertical-align: middle;\n",
       "    }\n",
       "\n",
       "    .dataframe tbody tr th {\n",
       "        vertical-align: top;\n",
       "    }\n",
       "\n",
       "    .dataframe thead th {\n",
       "        text-align: right;\n",
       "    }\n",
       "</style>\n",
       "<table border=\"1\" class=\"dataframe\">\n",
       "  <thead>\n",
       "    <tr style=\"text-align: right;\">\n",
       "      <th></th>\n",
       "      <th>code_module</th>\n",
       "      <th>code_presentation</th>\n",
       "      <th>module_presentation_length</th>\n",
       "      <th>id_student</th>\n",
       "      <th>date_registration</th>\n",
       "      <th>date_unregistration</th>\n",
       "      <th>id_assessment</th>\n",
       "      <th>assessment_type</th>\n",
       "      <th>date</th>\n",
       "      <th>weight</th>\n",
       "      <th>date_submitted</th>\n",
       "      <th>is_banked</th>\n",
       "      <th>score</th>\n",
       "    </tr>\n",
       "  </thead>\n",
       "  <tbody>\n",
       "    <tr>\n",
       "      <th>66767</th>\n",
       "      <td>DDD</td>\n",
       "      <td>2013J</td>\n",
       "      <td>261</td>\n",
       "      <td>425543</td>\n",
       "      <td>-39.0</td>\n",
       "      <td>232.0</td>\n",
       "      <td>25354</td>\n",
       "      <td>Exam</td>\n",
       "      <td>261.0</td>\n",
       "      <td>100.0</td>\n",
       "      <td>237</td>\n",
       "      <td>0</td>\n",
       "      <td>33.0</td>\n",
       "    </tr>\n",
       "  </tbody>\n",
       "</table>\n",
       "</div>"
      ],
      "text/plain": [
       "      code_module code_presentation  module_presentation_length  id_student  \\\n",
       "66767         DDD             2013J                         261      425543   \n",
       "\n",
       "       date_registration  date_unregistration  id_assessment assessment_type  \\\n",
       "66767              -39.0                232.0          25354            Exam   \n",
       "\n",
       "        date  weight  date_submitted  is_banked  score  \n",
       "66767  261.0   100.0             237          0   33.0  "
      ]
     },
     "execution_count": 6,
     "metadata": {},
     "output_type": "execute_result"
    }
   ],
   "source": [
    "examin_data.query('date_unregistration == date_unregistration & score == score & assessment_type == \"Exam\"')"
   ]
  },
  {
   "cell_type": "markdown",
   "metadata": {},
   "source": [
    "Удаляем его!"
   ]
  },
  {
   "cell_type": "code",
   "execution_count": 7,
   "metadata": {},
   "outputs": [],
   "source": [
    "#Дропнутый студент\n",
    "dropped_student = [425543]\n",
    "\n",
    "#Удаление\n",
    "examin_data_new = examin_data[~examin_data.id_student.isin(dropped_student)]"
   ]
  },
  {
   "cell_type": "markdown",
   "metadata": {},
   "source": [
    "### Есть ли пересдачники?"
   ]
  },
  {
   "cell_type": "code",
   "execution_count": 8,
   "metadata": {
    "scrolled": true
   },
   "outputs": [
    {
     "data": {
      "text/html": [
       "<div>\n",
       "<style scoped>\n",
       "    .dataframe tbody tr th:only-of-type {\n",
       "        vertical-align: middle;\n",
       "    }\n",
       "\n",
       "    .dataframe tbody tr th {\n",
       "        vertical-align: top;\n",
       "    }\n",
       "\n",
       "    .dataframe thead th {\n",
       "        text-align: right;\n",
       "    }\n",
       "</style>\n",
       "<table border=\"1\" class=\"dataframe\">\n",
       "  <thead>\n",
       "    <tr style=\"text-align: right;\">\n",
       "      <th></th>\n",
       "      <th>code_module</th>\n",
       "      <th>code_presentation</th>\n",
       "      <th>module_presentation_length</th>\n",
       "      <th>id_student</th>\n",
       "      <th>date_registration</th>\n",
       "      <th>date_unregistration</th>\n",
       "      <th>id_assessment</th>\n",
       "      <th>assessment_type</th>\n",
       "      <th>date</th>\n",
       "      <th>weight</th>\n",
       "      <th>date_submitted</th>\n",
       "      <th>is_banked</th>\n",
       "      <th>score</th>\n",
       "    </tr>\n",
       "  </thead>\n",
       "  <tbody>\n",
       "  </tbody>\n",
       "</table>\n",
       "</div>"
      ],
      "text/plain": [
       "Empty DataFrame\n",
       "Columns: [code_module, code_presentation, module_presentation_length, id_student, date_registration, date_unregistration, id_assessment, assessment_type, date, weight, date_submitted, is_banked, score]\n",
       "Index: []"
      ]
     },
     "execution_count": 8,
     "metadata": {},
     "output_type": "execute_result"
    }
   ],
   "source": [
    "examin_data.query('is_banked == 1 & assessment_type == \"Exam\"')"
   ]
  },
  {
   "cell_type": "markdown",
   "metadata": {},
   "source": [
    "Никто не пересдавал экзамены. Молодцы..."
   ]
  },
  {
   "cell_type": "markdown",
   "metadata": {},
   "source": [
    "### У нас в данных много студентов, кто не сдавал тесты (не зарегался), но сдавали экзамены. Это ок?"
   ]
  },
  {
   "cell_type": "code",
   "execution_count": 9,
   "metadata": {
    "scrolled": true
   },
   "outputs": [
    {
     "data": {
      "text/plain": [
       "247"
      ]
     },
     "execution_count": 9,
     "metadata": {},
     "output_type": "execute_result"
    }
   ],
   "source": [
    "examin_data_new.query('date_unregistration == date_unregistration').id_student.nunique()"
   ]
  },
  {
   "cell_type": "markdown",
   "metadata": {},
   "source": [
    "Таких студентов у нас 247\n",
    "\n",
    "Возможно они сдавали несколько предметов. По одному получилось сдать экз. А другой дропнули  \n",
    "Или сдавали какие то тесты в одном семестре - не получилось и дропнулись. И сдали предмет в другом семестре "
   ]
  },
  {
   "cell_type": "code",
   "execution_count": 13,
   "metadata": {},
   "outputs": [
    {
     "data": {
      "text/html": [
       "<div>\n",
       "<style scoped>\n",
       "    .dataframe tbody tr th:only-of-type {\n",
       "        vertical-align: middle;\n",
       "    }\n",
       "\n",
       "    .dataframe tbody tr th {\n",
       "        vertical-align: top;\n",
       "    }\n",
       "\n",
       "    .dataframe thead th {\n",
       "        text-align: right;\n",
       "    }\n",
       "</style>\n",
       "<table border=\"1\" class=\"dataframe\">\n",
       "  <thead>\n",
       "    <tr style=\"text-align: right;\">\n",
       "      <th></th>\n",
       "      <th>code_module</th>\n",
       "      <th>code_presentation</th>\n",
       "      <th>module_presentation_length</th>\n",
       "      <th>id_student</th>\n",
       "      <th>date_registration</th>\n",
       "      <th>date_unregistration</th>\n",
       "      <th>id_assessment</th>\n",
       "      <th>assessment_type</th>\n",
       "      <th>date</th>\n",
       "      <th>weight</th>\n",
       "      <th>date_submitted</th>\n",
       "      <th>is_banked</th>\n",
       "      <th>score</th>\n",
       "    </tr>\n",
       "  </thead>\n",
       "  <tbody>\n",
       "    <tr>\n",
       "      <th>46207</th>\n",
       "      <td>CCC</td>\n",
       "      <td>2014J</td>\n",
       "      <td>269</td>\n",
       "      <td>29411</td>\n",
       "      <td>-135.0</td>\n",
       "      <td>100.0</td>\n",
       "      <td>24295</td>\n",
       "      <td>CMA</td>\n",
       "      <td>18.0</td>\n",
       "      <td>2.0</td>\n",
       "      <td>21</td>\n",
       "      <td>0</td>\n",
       "      <td>0.0</td>\n",
       "    </tr>\n",
       "    <tr>\n",
       "      <th>46208</th>\n",
       "      <td>CCC</td>\n",
       "      <td>2014J</td>\n",
       "      <td>269</td>\n",
       "      <td>29411</td>\n",
       "      <td>-135.0</td>\n",
       "      <td>100.0</td>\n",
       "      <td>24291</td>\n",
       "      <td>TMA</td>\n",
       "      <td>32.0</td>\n",
       "      <td>9.0</td>\n",
       "      <td>51</td>\n",
       "      <td>0</td>\n",
       "      <td>14.0</td>\n",
       "    </tr>\n",
       "    <tr>\n",
       "      <th>65139</th>\n",
       "      <td>DDD</td>\n",
       "      <td>2013J</td>\n",
       "      <td>261</td>\n",
       "      <td>29411</td>\n",
       "      <td>-96.0</td>\n",
       "      <td>NaN</td>\n",
       "      <td>25348</td>\n",
       "      <td>TMA</td>\n",
       "      <td>25.0</td>\n",
       "      <td>10.0</td>\n",
       "      <td>24</td>\n",
       "      <td>0</td>\n",
       "      <td>75.0</td>\n",
       "    </tr>\n",
       "    <tr>\n",
       "      <th>65140</th>\n",
       "      <td>DDD</td>\n",
       "      <td>2013J</td>\n",
       "      <td>261</td>\n",
       "      <td>29411</td>\n",
       "      <td>-96.0</td>\n",
       "      <td>NaN</td>\n",
       "      <td>25349</td>\n",
       "      <td>TMA</td>\n",
       "      <td>53.0</td>\n",
       "      <td>12.5</td>\n",
       "      <td>53</td>\n",
       "      <td>0</td>\n",
       "      <td>79.0</td>\n",
       "    </tr>\n",
       "    <tr>\n",
       "      <th>65141</th>\n",
       "      <td>DDD</td>\n",
       "      <td>2013J</td>\n",
       "      <td>261</td>\n",
       "      <td>29411</td>\n",
       "      <td>-96.0</td>\n",
       "      <td>NaN</td>\n",
       "      <td>25350</td>\n",
       "      <td>TMA</td>\n",
       "      <td>88.0</td>\n",
       "      <td>17.5</td>\n",
       "      <td>88</td>\n",
       "      <td>0</td>\n",
       "      <td>93.0</td>\n",
       "    </tr>\n",
       "    <tr>\n",
       "      <th>65142</th>\n",
       "      <td>DDD</td>\n",
       "      <td>2013J</td>\n",
       "      <td>261</td>\n",
       "      <td>29411</td>\n",
       "      <td>-96.0</td>\n",
       "      <td>NaN</td>\n",
       "      <td>25351</td>\n",
       "      <td>TMA</td>\n",
       "      <td>123.0</td>\n",
       "      <td>20.0</td>\n",
       "      <td>130</td>\n",
       "      <td>0</td>\n",
       "      <td>58.0</td>\n",
       "    </tr>\n",
       "    <tr>\n",
       "      <th>65143</th>\n",
       "      <td>DDD</td>\n",
       "      <td>2013J</td>\n",
       "      <td>261</td>\n",
       "      <td>29411</td>\n",
       "      <td>-96.0</td>\n",
       "      <td>NaN</td>\n",
       "      <td>25352</td>\n",
       "      <td>TMA</td>\n",
       "      <td>165.0</td>\n",
       "      <td>20.0</td>\n",
       "      <td>163</td>\n",
       "      <td>0</td>\n",
       "      <td>86.0</td>\n",
       "    </tr>\n",
       "    <tr>\n",
       "      <th>65144</th>\n",
       "      <td>DDD</td>\n",
       "      <td>2013J</td>\n",
       "      <td>261</td>\n",
       "      <td>29411</td>\n",
       "      <td>-96.0</td>\n",
       "      <td>NaN</td>\n",
       "      <td>25353</td>\n",
       "      <td>TMA</td>\n",
       "      <td>207.0</td>\n",
       "      <td>20.0</td>\n",
       "      <td>207</td>\n",
       "      <td>0</td>\n",
       "      <td>66.0</td>\n",
       "    </tr>\n",
       "    <tr>\n",
       "      <th>65145</th>\n",
       "      <td>DDD</td>\n",
       "      <td>2013J</td>\n",
       "      <td>261</td>\n",
       "      <td>29411</td>\n",
       "      <td>-96.0</td>\n",
       "      <td>NaN</td>\n",
       "      <td>25354</td>\n",
       "      <td>Exam</td>\n",
       "      <td>261.0</td>\n",
       "      <td>100.0</td>\n",
       "      <td>237</td>\n",
       "      <td>0</td>\n",
       "      <td>62.0</td>\n",
       "    </tr>\n",
       "  </tbody>\n",
       "</table>\n",
       "</div>"
      ],
      "text/plain": [
       "      code_module code_presentation  module_presentation_length  id_student  \\\n",
       "46207         CCC             2014J                         269       29411   \n",
       "46208         CCC             2014J                         269       29411   \n",
       "65139         DDD             2013J                         261       29411   \n",
       "65140         DDD             2013J                         261       29411   \n",
       "65141         DDD             2013J                         261       29411   \n",
       "65142         DDD             2013J                         261       29411   \n",
       "65143         DDD             2013J                         261       29411   \n",
       "65144         DDD             2013J                         261       29411   \n",
       "65145         DDD             2013J                         261       29411   \n",
       "\n",
       "       date_registration  date_unregistration  id_assessment assessment_type  \\\n",
       "46207             -135.0                100.0          24295             CMA   \n",
       "46208             -135.0                100.0          24291             TMA   \n",
       "65139              -96.0                  NaN          25348             TMA   \n",
       "65140              -96.0                  NaN          25349             TMA   \n",
       "65141              -96.0                  NaN          25350             TMA   \n",
       "65142              -96.0                  NaN          25351             TMA   \n",
       "65143              -96.0                  NaN          25352             TMA   \n",
       "65144              -96.0                  NaN          25353             TMA   \n",
       "65145              -96.0                  NaN          25354            Exam   \n",
       "\n",
       "        date  weight  date_submitted  is_banked  score  \n",
       "46207   18.0     2.0              21          0    0.0  \n",
       "46208   32.0     9.0              51          0   14.0  \n",
       "65139   25.0    10.0              24          0   75.0  \n",
       "65140   53.0    12.5              53          0   79.0  \n",
       "65141   88.0    17.5              88          0   93.0  \n",
       "65142  123.0    20.0             130          0   58.0  \n",
       "65143  165.0    20.0             163          0   86.0  \n",
       "65144  207.0    20.0             207          0   66.0  \n",
       "65145  261.0   100.0             237          0   62.0  "
      ]
     },
     "execution_count": 13,
     "metadata": {},
     "output_type": "execute_result"
    }
   ],
   "source": [
    "examin_data_new.query('id_student == 29411')"
   ]
  },
  {
   "cell_type": "code",
   "execution_count": 17,
   "metadata": {
    "scrolled": true
   },
   "outputs": [
    {
     "name": "stderr",
     "output_type": "stream",
     "text": [
      "/opt/tljh/user/lib/python3.7/site-packages/ipykernel_launcher.py:6: SettingWithCopyWarning: \n",
      "A value is trying to be set on a copy of a slice from a DataFrame.\n",
      "Try using .loc[row_indexer,col_indexer] = value instead\n",
      "\n",
      "See the caveats in the documentation: https://pandas.pydata.org/pandas-docs/stable/user_guide/indexing.html#returning-a-view-versus-a-copy\n",
      "  \n"
     ]
    },
    {
     "data": {
      "text/html": [
       "<div>\n",
       "<style scoped>\n",
       "    .dataframe tbody tr th:only-of-type {\n",
       "        vertical-align: middle;\n",
       "    }\n",
       "\n",
       "    .dataframe tbody tr th {\n",
       "        vertical-align: top;\n",
       "    }\n",
       "\n",
       "    .dataframe thead th {\n",
       "        text-align: right;\n",
       "    }\n",
       "</style>\n",
       "<table border=\"1\" class=\"dataframe\">\n",
       "  <thead>\n",
       "    <tr style=\"text-align: right;\">\n",
       "      <th></th>\n",
       "      <th>id_student</th>\n",
       "      <th>code_module</th>\n",
       "      <th>code_presentation</th>\n",
       "      <th>assessment_type</th>\n",
       "      <th>is_ex</th>\n",
       "    </tr>\n",
       "  </thead>\n",
       "  <tbody>\n",
       "    <tr>\n",
       "      <th>0</th>\n",
       "      <td>29411</td>\n",
       "      <td>CCC</td>\n",
       "      <td>2014J</td>\n",
       "      <td>2</td>\n",
       "      <td>0</td>\n",
       "    </tr>\n",
       "    <tr>\n",
       "      <th>1</th>\n",
       "      <td>29411</td>\n",
       "      <td>DDD</td>\n",
       "      <td>2013J</td>\n",
       "      <td>7</td>\n",
       "      <td>1</td>\n",
       "    </tr>\n",
       "    <tr>\n",
       "      <th>2</th>\n",
       "      <td>40419</td>\n",
       "      <td>DDD</td>\n",
       "      <td>2013B</td>\n",
       "      <td>2</td>\n",
       "      <td>0</td>\n",
       "    </tr>\n",
       "    <tr>\n",
       "      <th>3</th>\n",
       "      <td>40419</td>\n",
       "      <td>DDD</td>\n",
       "      <td>2013J</td>\n",
       "      <td>7</td>\n",
       "      <td>1</td>\n",
       "    </tr>\n",
       "    <tr>\n",
       "      <th>4</th>\n",
       "      <td>45664</td>\n",
       "      <td>CCC</td>\n",
       "      <td>2014B</td>\n",
       "      <td>3</td>\n",
       "      <td>0</td>\n",
       "    </tr>\n",
       "    <tr>\n",
       "      <th>...</th>\n",
       "      <td>...</td>\n",
       "      <td>...</td>\n",
       "      <td>...</td>\n",
       "      <td>...</td>\n",
       "      <td>...</td>\n",
       "    </tr>\n",
       "    <tr>\n",
       "      <th>528</th>\n",
       "      <td>2646737</td>\n",
       "      <td>DDD</td>\n",
       "      <td>2014J</td>\n",
       "      <td>7</td>\n",
       "      <td>1</td>\n",
       "    </tr>\n",
       "    <tr>\n",
       "      <th>529</th>\n",
       "      <td>2668106</td>\n",
       "      <td>CCC</td>\n",
       "      <td>2014J</td>\n",
       "      <td>9</td>\n",
       "      <td>1</td>\n",
       "    </tr>\n",
       "    <tr>\n",
       "      <th>530</th>\n",
       "      <td>2668106</td>\n",
       "      <td>DDD</td>\n",
       "      <td>2014B</td>\n",
       "      <td>3</td>\n",
       "      <td>0</td>\n",
       "    </tr>\n",
       "    <tr>\n",
       "      <th>531</th>\n",
       "      <td>2668945</td>\n",
       "      <td>DDD</td>\n",
       "      <td>2013J</td>\n",
       "      <td>3</td>\n",
       "      <td>0</td>\n",
       "    </tr>\n",
       "    <tr>\n",
       "      <th>532</th>\n",
       "      <td>2668945</td>\n",
       "      <td>DDD</td>\n",
       "      <td>2014J</td>\n",
       "      <td>7</td>\n",
       "      <td>1</td>\n",
       "    </tr>\n",
       "  </tbody>\n",
       "</table>\n",
       "<p>533 rows × 5 columns</p>\n",
       "</div>"
      ],
      "text/plain": [
       "     id_student code_module code_presentation  assessment_type  is_ex\n",
       "0         29411         CCC             2014J                2      0\n",
       "1         29411         DDD             2013J                7      1\n",
       "2         40419         DDD             2013B                2      0\n",
       "3         40419         DDD             2013J                7      1\n",
       "4         45664         CCC             2014B                3      0\n",
       "..          ...         ...               ...              ...    ...\n",
       "528     2646737         DDD             2014J                7      1\n",
       "529     2668106         CCC             2014J                9      1\n",
       "530     2668106         DDD             2014B                3      0\n",
       "531     2668945         DDD             2013J                3      0\n",
       "532     2668945         DDD             2014J                7      1\n",
       "\n",
       "[533 rows x 5 columns]"
      ]
     },
     "execution_count": 17,
     "metadata": {},
     "output_type": "execute_result"
    }
   ],
   "source": [
    "#Создаем отдельно дата-сет со студентами, у кого была отмена регистрации на тест, но успешно сданный экзамен\n",
    "check_drop = examin_data_new.query('date_unregistration == date_unregistration').id_student.unique().tolist()\n",
    "check_drop_data = examin_data_new[examin_data_new.id_student.isin(check_drop)]\n",
    "\n",
    "#Создаем колонку – экзамен(1) | тест (0)\n",
    "check_drop_data['is_ex'] = np.where(check_drop_data['assessment_type'] == \"Exam\", 1, 0).tolist()\n",
    "\n",
    "#Сабсет студентов: по количество тесту и бинарной колонке – экзамен (1) и тест (0): is_ex\n",
    "check_drop_data.groupby(['id_student', 'code_module', 'code_presentation'], as_index = False) \\\n",
    "    .agg({'assessment_type' : 'count',\n",
    "         'is_ex' : 'sum'})"
   ]
  },
  {
   "cell_type": "markdown",
   "metadata": {},
   "source": [
    "Рассмотрим последний сабсет. Только с условием, что is_ex == 0. И посчитаем кол-во студентов."
   ]
  },
  {
   "cell_type": "code",
   "execution_count": 26,
   "metadata": {},
   "outputs": [
    {
     "data": {
      "text/plain": [
       "247"
      ]
     },
     "execution_count": 26,
     "metadata": {},
     "output_type": "execute_result"
    }
   ],
   "source": [
    "#Посмотрим на кол-во студентов, кто дропнулся с предмета и сдавал тесты  \n",
    "check_drop_data.groupby(['id_student', 'code_module', 'code_presentation', 'date_registration'], as_index = False) \\\n",
    "    .agg({'assessment_type' : 'count',\n",
    "         'is_ex' : 'sum'}).query('is_ex == 0 & date_registration == date_registration').id_student.nunique()"
   ]
  },
  {
   "cell_type": "markdown",
   "metadata": {},
   "source": [
    "А теперь посмотрим на общее кол-во студентов в первоначальном дата-сете"
   ]
  },
  {
   "cell_type": "code",
   "execution_count": 27,
   "metadata": {
    "scrolled": true
   },
   "outputs": [
    {
     "data": {
      "text/plain": [
       "247"
      ]
     },
     "execution_count": 27,
     "metadata": {},
     "output_type": "execute_result"
    }
   ],
   "source": [
    "check_drop_data.id_student.nunique()"
   ]
  },
  {
   "cell_type": "markdown",
   "metadata": {},
   "source": [
    "Количество одинаковое!  \n",
    "Это подтверждает мою гипотезу о том, что студенты сдавали 2 предмета:\n",
    "- на первом они сдали какое-то кол-во тестов и дропнулись\n",
    "- а второй предмет полностью (вместе с экз) сдали "
   ]
  },
  {
   "cell_type": "markdown",
   "metadata": {},
   "source": [
    "Вывод: все ок, студенты проходили тестики в других предметах и дропнулись   \n",
    "Или сдавали один и тот же предмет в разных семестрах: в одном дропнулись, а в другом сдали тест "
   ]
  },
  {
   "cell_type": "markdown",
   "metadata": {},
   "source": [
    "### Есть ли студенты у кого оценка за экзамен NA?"
   ]
  },
  {
   "cell_type": "code",
   "execution_count": 82,
   "metadata": {},
   "outputs": [
    {
     "data": {
      "text/html": [
       "<div>\n",
       "<style scoped>\n",
       "    .dataframe tbody tr th:only-of-type {\n",
       "        vertical-align: middle;\n",
       "    }\n",
       "\n",
       "    .dataframe tbody tr th {\n",
       "        vertical-align: top;\n",
       "    }\n",
       "\n",
       "    .dataframe thead th {\n",
       "        text-align: right;\n",
       "    }\n",
       "</style>\n",
       "<table border=\"1\" class=\"dataframe\">\n",
       "  <thead>\n",
       "    <tr style=\"text-align: right;\">\n",
       "      <th></th>\n",
       "      <th>code_module</th>\n",
       "      <th>code_presentation</th>\n",
       "      <th>module_presentation_length</th>\n",
       "      <th>id_student</th>\n",
       "      <th>date_registration</th>\n",
       "      <th>date_unregistration</th>\n",
       "      <th>id_assessment</th>\n",
       "      <th>assessment_type</th>\n",
       "      <th>date</th>\n",
       "      <th>weight</th>\n",
       "      <th>date_submitted</th>\n",
       "      <th>is_banked</th>\n",
       "      <th>score</th>\n",
       "    </tr>\n",
       "  </thead>\n",
       "  <tbody>\n",
       "  </tbody>\n",
       "</table>\n",
       "</div>"
      ],
      "text/plain": [
       "Empty DataFrame\n",
       "Columns: [code_module, code_presentation, module_presentation_length, id_student, date_registration, date_unregistration, id_assessment, assessment_type, date, weight, date_submitted, is_banked, score]\n",
       "Index: []"
      ]
     },
     "execution_count": 82,
     "metadata": {},
     "output_type": "execute_result"
    }
   ],
   "source": [
    "examin_data_new.query('assessment_type == \"Exam\" & score != score')"
   ]
  },
  {
   "cell_type": "markdown",
   "metadata": {},
   "source": [
    "Нет, все супер!"
   ]
  },
  {
   "cell_type": "markdown",
   "metadata": {},
   "source": [
    "---"
   ]
  },
  {
   "cell_type": "markdown",
   "metadata": {},
   "source": [
    "# Теперь к основному анализу"
   ]
  },
  {
   "cell_type": "markdown",
   "metadata": {},
   "source": [
    "### Самый трудный / простой экз – предмет / семестр"
   ]
  },
  {
   "cell_type": "code",
   "execution_count": 29,
   "metadata": {
    "scrolled": true
   },
   "outputs": [
    {
     "data": {
      "text/html": [
       "<div>\n",
       "<style scoped>\n",
       "    .dataframe tbody tr th:only-of-type {\n",
       "        vertical-align: middle;\n",
       "    }\n",
       "\n",
       "    .dataframe tbody tr th {\n",
       "        vertical-align: top;\n",
       "    }\n",
       "\n",
       "    .dataframe thead th {\n",
       "        text-align: right;\n",
       "    }\n",
       "</style>\n",
       "<table border=\"1\" class=\"dataframe\">\n",
       "  <thead>\n",
       "    <tr style=\"text-align: right;\">\n",
       "      <th></th>\n",
       "      <th>code_module</th>\n",
       "      <th>code_presentation</th>\n",
       "      <th>assessment_type</th>\n",
       "      <th>num</th>\n",
       "      <th>success</th>\n",
       "      <th>zavershaemost</th>\n",
       "    </tr>\n",
       "  </thead>\n",
       "  <tbody>\n",
       "    <tr>\n",
       "      <th>0</th>\n",
       "      <td>CCC</td>\n",
       "      <td>2014B</td>\n",
       "      <td>Exam</td>\n",
       "      <td>747</td>\n",
       "      <td>664</td>\n",
       "      <td>0.89</td>\n",
       "    </tr>\n",
       "    <tr>\n",
       "      <th>1</th>\n",
       "      <td>CCC</td>\n",
       "      <td>2014J</td>\n",
       "      <td>Exam</td>\n",
       "      <td>1168</td>\n",
       "      <td>1019</td>\n",
       "      <td>0.87</td>\n",
       "    </tr>\n",
       "    <tr>\n",
       "      <th>2</th>\n",
       "      <td>DDD</td>\n",
       "      <td>2013B</td>\n",
       "      <td>Exam</td>\n",
       "      <td>602</td>\n",
       "      <td>504</td>\n",
       "      <td>0.84</td>\n",
       "    </tr>\n",
       "    <tr>\n",
       "      <th>3</th>\n",
       "      <td>DDD</td>\n",
       "      <td>2013J</td>\n",
       "      <td>Exam</td>\n",
       "      <td>967</td>\n",
       "      <td>878</td>\n",
       "      <td>0.91</td>\n",
       "    </tr>\n",
       "    <tr>\n",
       "      <th>4</th>\n",
       "      <td>DDD</td>\n",
       "      <td>2014B</td>\n",
       "      <td>Exam</td>\n",
       "      <td>524</td>\n",
       "      <td>485</td>\n",
       "      <td>0.93</td>\n",
       "    </tr>\n",
       "    <tr>\n",
       "      <th>5</th>\n",
       "      <td>DDD</td>\n",
       "      <td>2014J</td>\n",
       "      <td>Exam</td>\n",
       "      <td>950</td>\n",
       "      <td>842</td>\n",
       "      <td>0.89</td>\n",
       "    </tr>\n",
       "  </tbody>\n",
       "</table>\n",
       "</div>"
      ],
      "text/plain": [
       "  code_module code_presentation assessment_type   num  success  zavershaemost\n",
       "0         CCC             2014B            Exam   747      664           0.89\n",
       "1         CCC             2014J            Exam  1168     1019           0.87\n",
       "2         DDD             2013B            Exam   602      504           0.84\n",
       "3         DDD             2013J            Exam   967      878           0.91\n",
       "4         DDD             2014B            Exam   524      485           0.93\n",
       "5         DDD             2014J            Exam   950      842           0.89"
      ]
     },
     "execution_count": 29,
     "metadata": {},
     "output_type": "execute_result"
    }
   ],
   "source": [
    "#Подсчет общего кол-во сдач экзамена по каждому предмету | семестру\n",
    "number_split = examin_data_new.query('assessment_type == \"Exam\"') \\\n",
    "    .groupby(['code_module', 'code_presentation'])['assessment_type'].value_counts().to_frame() \\\n",
    "    .rename({'assessment_type': 'num'}, axis='columns').reset_index() \n",
    "\n",
    "#Подсчет успешного кол-во сдач экзамена по каждому предмету | семестру\n",
    "success_split = examin_data_new.query('assessment_type == \"Exam\" & score >= 40') \\\n",
    "    .groupby(['code_module', 'code_presentation'])['assessment_type'].value_counts().to_frame() \\\n",
    "    .rename({'assessment_type': 'num'}, axis='columns').reset_index() \\\n",
    "    .rename({'num': 'success'}, axis='columns')\n",
    "\n",
    "#Связываем дата-сеты\n",
    "gr_zavershaemost_split = number_split.merge(success_split, on = ['code_module', 'code_presentation', 'assessment_type'])\n",
    "\n",
    "#Пишем формулу для завершаемости \n",
    "gr_zavershaemost_split['zavershaemost'] = round(gr_zavershaemost_split.success / gr_zavershaemost_split.num,2)\n",
    "gr_zavershaemost_split"
   ]
  },
  {
   "cell_type": "markdown",
   "metadata": {},
   "source": [
    "### Визуализация завершаемости для предмета | семестр"
   ]
  },
  {
   "cell_type": "code",
   "execution_count": 30,
   "metadata": {},
   "outputs": [
    {
     "data": {
      "image/png": "[encoded data removed]",
      "text/plain": [
       "<Figure size 720x504 with 1 Axes>"
      ]
     },
     "metadata": {},
     "output_type": "display_data"
    }
   ],
   "source": [
    "#Рисуем график\n",
    "graph_module_pres = sns.barplot(x=\"code_presentation\", y=\"zavershaemost\", \n",
    "            data=gr_zavershaemost_split,hue=\"code_module\")\n",
    "\n",
    "#Отодвигаем легенду\n",
    "graph_module_pres.legend(bbox_to_anchor=(1.05, 1), loc='upper left', borderaxespad=0)\n",
    "\n",
    "#Подписываем цифры для каждого столбца\n",
    "for container in graph_module_pres.containers:\n",
    "    graph_module_pres.bar_label(container)"
   ]
  },
  {
   "cell_type": "markdown",
   "metadata": {},
   "source": [
    "Вывод из графика: \n",
    "- Самый простой экз – DDD, 2014B  \n",
    "- Самый сложный экз – DDD, 2013B  "
   ]
  },
  {
   "cell_type": "markdown",
   "metadata": {},
   "source": [
    "### Самый трудный / простой экз – по семестрам"
   ]
  },
  {
   "cell_type": "code",
   "execution_count": 31,
   "metadata": {
    "scrolled": true
   },
   "outputs": [
    {
     "data": {
      "text/html": [
       "<div>\n",
       "<style scoped>\n",
       "    .dataframe tbody tr th:only-of-type {\n",
       "        vertical-align: middle;\n",
       "    }\n",
       "\n",
       "    .dataframe tbody tr th {\n",
       "        vertical-align: top;\n",
       "    }\n",
       "\n",
       "    .dataframe thead th {\n",
       "        text-align: right;\n",
       "    }\n",
       "</style>\n",
       "<table border=\"1\" class=\"dataframe\">\n",
       "  <thead>\n",
       "    <tr style=\"text-align: right;\">\n",
       "      <th></th>\n",
       "      <th>code_presentation</th>\n",
       "      <th>assessment_type</th>\n",
       "      <th>num</th>\n",
       "      <th>success</th>\n",
       "      <th>zavershaemost</th>\n",
       "    </tr>\n",
       "  </thead>\n",
       "  <tbody>\n",
       "    <tr>\n",
       "      <th>0</th>\n",
       "      <td>2013B</td>\n",
       "      <td>Exam</td>\n",
       "      <td>602</td>\n",
       "      <td>504</td>\n",
       "      <td>0.84</td>\n",
       "    </tr>\n",
       "    <tr>\n",
       "      <th>1</th>\n",
       "      <td>2013J</td>\n",
       "      <td>Exam</td>\n",
       "      <td>967</td>\n",
       "      <td>878</td>\n",
       "      <td>0.91</td>\n",
       "    </tr>\n",
       "    <tr>\n",
       "      <th>2</th>\n",
       "      <td>2014B</td>\n",
       "      <td>Exam</td>\n",
       "      <td>1271</td>\n",
       "      <td>1149</td>\n",
       "      <td>0.90</td>\n",
       "    </tr>\n",
       "    <tr>\n",
       "      <th>3</th>\n",
       "      <td>2014J</td>\n",
       "      <td>Exam</td>\n",
       "      <td>2118</td>\n",
       "      <td>1861</td>\n",
       "      <td>0.88</td>\n",
       "    </tr>\n",
       "  </tbody>\n",
       "</table>\n",
       "</div>"
      ],
      "text/plain": [
       "  code_presentation assessment_type   num  success  zavershaemost\n",
       "0             2013B            Exam   602      504           0.84\n",
       "1             2013J            Exam   967      878           0.91\n",
       "2             2014B            Exam  1271     1149           0.90\n",
       "3             2014J            Exam  2118     1861           0.88"
      ]
     },
     "execution_count": 31,
     "metadata": {},
     "output_type": "execute_result"
    }
   ],
   "source": [
    "#Подсчет общего кол-во сдач экзамена по каждому семестру\n",
    "number_code = examin_data_new.query('assessment_type == \"Exam\"') \\\n",
    "    .groupby('code_presentation')['assessment_type'].value_counts().to_frame() \\\n",
    "    .rename({'assessment_type': 'num'}, axis='columns').reset_index() \n",
    "\n",
    "#Подсчет успешного кол-во сдач экзамена по каждому семестру\n",
    "success_code = examin_data_new.query('assessment_type == \"Exam\" & score >= 40') \\\n",
    "    .groupby('code_presentation')['assessment_type'].value_counts().to_frame() \\\n",
    "    .rename({'assessment_type': 'num'}, axis='columns').reset_index() \\\n",
    "    .rename({'num': 'success'}, axis='columns')\n",
    "\n",
    "#Связываем дата-сеты\n",
    "gr_zavershaemost_code = number_code.merge(success_code, on = ['code_presentation', 'assessment_type'])\n",
    "\n",
    "#Пишем формулу для завершаемости \n",
    "gr_zavershaemost_code['zavershaemost'] = round(gr_zavershaemost_code.success / gr_zavershaemost_code.num,2)\n",
    "\n",
    "gr_zavershaemost_code"
   ]
  },
  {
   "cell_type": "code",
   "execution_count": 32,
   "metadata": {},
   "outputs": [
    {
     "name": "stderr",
     "output_type": "stream",
     "text": [
      "No artists with labels found to put in legend.  Note that artists whose label start with an underscore are ignored when legend() is called with no argument.\n"
     ]
    },
    {
     "data": {
      "image/png": "[encoded data removed]",
      "text/plain": [
       "<Figure size 720x504 with 1 Axes>"
      ]
     },
     "metadata": {},
     "output_type": "display_data"
    }
   ],
   "source": [
    "#Рисуем график\n",
    "graph_pres = sns.barplot(x=\"code_presentation\", y=\"zavershaemost\", \n",
    "            data=gr_zavershaemost_code)\n",
    "\n",
    "#Отодвигаем легенду\n",
    "graph_pres.legend(bbox_to_anchor=(1.05, 1), loc='upper left', borderaxespad=0)\n",
    "\n",
    "#Подписываем цифры для каждого столбца\n",
    "for container in graph_pres.containers:\n",
    "    graph_pres.bar_label(container)"
   ]
  },
  {
   "cell_type": "markdown",
   "metadata": {},
   "source": [
    "Вывод из графика: \n",
    "- Самый простой экз  – 2013J   \n",
    "- Самый сложный экз – 2013B"
   ]
  },
  {
   "cell_type": "markdown",
   "metadata": {},
   "source": [
    "### Самый трудный / простой экз – предмет"
   ]
  },
  {
   "cell_type": "code",
   "execution_count": 87,
   "metadata": {
    "scrolled": true
   },
   "outputs": [
    {
     "data": {
      "text/html": [
       "<div>\n",
       "<style scoped>\n",
       "    .dataframe tbody tr th:only-of-type {\n",
       "        vertical-align: middle;\n",
       "    }\n",
       "\n",
       "    .dataframe tbody tr th {\n",
       "        vertical-align: top;\n",
       "    }\n",
       "\n",
       "    .dataframe thead th {\n",
       "        text-align: right;\n",
       "    }\n",
       "</style>\n",
       "<table border=\"1\" class=\"dataframe\">\n",
       "  <thead>\n",
       "    <tr style=\"text-align: right;\">\n",
       "      <th></th>\n",
       "      <th>code_module</th>\n",
       "      <th>assessment_type</th>\n",
       "      <th>num</th>\n",
       "      <th>success</th>\n",
       "      <th>zavershaemost</th>\n",
       "    </tr>\n",
       "  </thead>\n",
       "  <tbody>\n",
       "    <tr>\n",
       "      <th>0</th>\n",
       "      <td>CCC</td>\n",
       "      <td>Exam</td>\n",
       "      <td>1915</td>\n",
       "      <td>1683</td>\n",
       "      <td>0.88</td>\n",
       "    </tr>\n",
       "    <tr>\n",
       "      <th>1</th>\n",
       "      <td>DDD</td>\n",
       "      <td>Exam</td>\n",
       "      <td>3043</td>\n",
       "      <td>2709</td>\n",
       "      <td>0.89</td>\n",
       "    </tr>\n",
       "  </tbody>\n",
       "</table>\n",
       "</div>"
      ],
      "text/plain": [
       "  code_module assessment_type   num  success  zavershaemost\n",
       "0         CCC            Exam  1915     1683           0.88\n",
       "1         DDD            Exam  3043     2709           0.89"
      ]
     },
     "execution_count": 87,
     "metadata": {},
     "output_type": "execute_result"
    }
   ],
   "source": [
    "number_module = examin_data_new.query('assessment_type == \"Exam\"') \\\n",
    "    .groupby('code_module')['assessment_type'].value_counts().to_frame() \\\n",
    "    .rename({'assessment_type': 'num'}, axis='columns').reset_index() \n",
    "\n",
    "success_module = examin_data_new.query('assessment_type == \"Exam\" & score >= 40') \\\n",
    "    .groupby('code_module')['assessment_type'].value_counts().to_frame() \\\n",
    "    .rename({'assessment_type': 'num'}, axis='columns').reset_index() \\\n",
    "    .rename({'num': 'success'}, axis='columns')\n",
    "\n",
    "gr_zavershaemost_module = number_module.merge(success_module, on = ['code_module', 'assessment_type'])\n",
    "\n",
    "gr_zavershaemost_module['zavershaemost'] = round(gr_zavershaemost_module.success / gr_zavershaemost_module.num,2)\n",
    "\n",
    "gr_zavershaemost_module"
   ]
  },
  {
   "cell_type": "code",
   "execution_count": 34,
   "metadata": {},
   "outputs": [
    {
     "name": "stderr",
     "output_type": "stream",
     "text": [
      "No artists with labels found to put in legend.  Note that artists whose label start with an underscore are ignored when legend() is called with no argument.\n"
     ]
    },
    {
     "data": {
      "image/png": "[encoded data removed]",
      "text/plain": [
       "<Figure size 720x504 with 1 Axes>"
      ]
     },
     "metadata": {},
     "output_type": "display_data"
    }
   ],
   "source": [
    "#Рисуем график\n",
    "graph_module = sns.barplot(x=\"code_module\", y=\"zavershaemost\", \n",
    "            data=gr_zavershaemost_module)\n",
    "\n",
    "#Отодвигаем легенду\n",
    "graph_module.legend(bbox_to_anchor=(1.05, 1), loc='upper left', borderaxespad=0)\n",
    "\n",
    "#Подписываем цифры для каждого столбца\n",
    "for container in graph_module.containers:\n",
    "    graph_module.bar_label(container)"
   ]
  },
  {
   "cell_type": "markdown",
   "metadata": {},
   "source": [
    "Вывод из графика:  \n",
    "- Самый простой экз – DDD   \n",
    "- Самый сложный экз – CCC"
   ]
  },
  {
   "cell_type": "markdown",
   "metadata": {},
   "source": [
    "#### Исходя из результатов, можно предположить, что предметы и семестры легкие, потому что оверол завершаемость >= 80 \n",
    "\n",
    "Но, может в этих данных есть стат. значимые различия и даже маленькое отклонение в меньшее значение делает экзамен сложным\n",
    "\n",
    "Давайте попробуем провести хи-тест, чтобы проверить связь успешной сдачи экзамена и семестра | предмета"
   ]
  },
  {
   "cell_type": "markdown",
   "metadata": {},
   "source": [
    "#### Преобразуем данные "
   ]
  },
  {
   "cell_type": "code",
   "execution_count": 33,
   "metadata": {},
   "outputs": [
    {
     "name": "stderr",
     "output_type": "stream",
     "text": [
      "/opt/tljh/user/lib/python3.7/site-packages/ipykernel_launcher.py:2: SettingWithCopyWarning: \n",
      "A value is trying to be set on a copy of a slice from a DataFrame.\n",
      "Try using .loc[row_indexer,col_indexer] = value instead\n",
      "\n",
      "See the caveats in the documentation: https://pandas.pydata.org/pandas-docs/stable/user_guide/indexing.html#returning-a-view-versus-a-copy\n",
      "  \n"
     ]
    }
   ],
   "source": [
    "#Создаем дамми-переменную: 1 - успех, 0 - неуспешная сдача экзааменаа\n",
    "examin_data_new['success'] = np.where(examin_data_new['score'] >= 40, 1, 0).tolist()\n",
    "\n",
    "#Содздаем отдельный дата-сет для хи-теста\n",
    "chi_square_data = examin_data_new.query('assessment_type == \"Exam\" & score == score')"
   ]
  },
  {
   "cell_type": "markdown",
   "metadata": {},
   "source": [
    "### Хи тест для предметов "
   ]
  },
  {
   "cell_type": "code",
   "execution_count": 34,
   "metadata": {},
   "outputs": [
    {
     "name": "stdout",
     "output_type": "stream",
     "text": [
      "Chi2 result of the contingency table: 1.3969537223386934, p-value: 0.2372342833682606\n"
     ]
    }
   ],
   "source": [
    "#Создаем кросс-таблицу\n",
    "crosstable_code_module = pd.crosstab(chi_square_data['code_module'], chi_square_data['success'])\n",
    "\n",
    "#Считаем метрики\n",
    "chi2, p, dof, ex = chi2_contingency(crosstable_code_module, correction=True)\n",
    "print(f\"Chi2 result of the contingency table: {chi2}, p-value: {p}\")"
   ]
  },
  {
   "cell_type": "markdown",
   "metadata": {},
   "source": [
    "Результат стат. не значим. Мы не можем отклонить H0"
   ]
  },
  {
   "cell_type": "markdown",
   "metadata": {},
   "source": [
    "### Хи тест для семестров"
   ]
  },
  {
   "cell_type": "code",
   "execution_count": 35,
   "metadata": {},
   "outputs": [
    {
     "name": "stdout",
     "output_type": "stream",
     "text": [
      "Chi2 result of the contingency table: 23.98889166795387, p-value: 2.5113725658163416e-05\n"
     ]
    }
   ],
   "source": [
    "#Создаем кросс-таблицу\n",
    "crosstable_semestr = pd.crosstab(chi_square_data['code_presentation'], chi_square_data['success'])\n",
    "\n",
    "#Считаем метрики\n",
    "chi2, p, dof, ex = chi2_contingency(crosstable_semestr, correction=True)\n",
    "print(f\"Chi2 result of the contingency table: {chi2}, p-value: {p}\")"
   ]
  },
  {
   "cell_type": "markdown",
   "metadata": {},
   "source": [
    "Результат стат. незначим. Даже без проведения Post-hoc (он нужен, т.к. у нас много групп)"
   ]
  },
  {
   "cell_type": "markdown",
   "metadata": {},
   "source": [
    "### Хи тест для семестров и предметов "
   ]
  },
  {
   "cell_type": "code",
   "execution_count": 36,
   "metadata": {
    "scrolled": true
   },
   "outputs": [
    {
     "name": "stdout",
     "output_type": "stream",
     "text": [
      "Chi2 result of the contingency table: 29.085686199963515, p-value: 2.230712179094228e-05\n"
     ]
    },
    {
     "name": "stderr",
     "output_type": "stream",
     "text": [
      "/opt/tljh/user/lib/python3.7/site-packages/ipykernel_launcher.py:2: SettingWithCopyWarning: \n",
      "A value is trying to be set on a copy of a slice from a DataFrame.\n",
      "Try using .loc[row_indexer,col_indexer] = value instead\n",
      "\n",
      "See the caveats in the documentation: https://pandas.pydata.org/pandas-docs/stable/user_guide/indexing.html#returning-a-view-versus-a-copy\n",
      "  \n"
     ]
    }
   ],
   "source": [
    "#Создаем одну колонку из переменных предмета и семестра\n",
    "chi_square_data[\"module_semestr\"] = chi_square_data[\"code_module\"] + \"_\" + chi_square_data[\"code_presentation\"]\n",
    "\n",
    "#Создаем кросс-таблицу\n",
    "crosstable_semestr_module = pd.crosstab(chi_square_data['module_semestr'], chi_square_data['success'])\n",
    "\n",
    "#Считаем метрики\n",
    "chi2, p, dof, ex = chi2_contingency(crosstable_semestr_module, correction=True)\n",
    "print(f\"Chi2 result of the contingency table: {chi2}, p-value: {p}\")"
   ]
  },
  {
   "cell_type": "markdown",
   "metadata": {},
   "source": [
    "Результат стат. незначим. Даже без проведения Post-hoc (он нужен, т.к. у нас много групп)"
   ]
  },
  {
   "cell_type": "markdown",
   "metadata": {},
   "source": [
    "## Общий вывод по данным "
   ]
  },
  {
   "cell_type": "markdown",
   "metadata": {},
   "source": [
    "1. Среди студентов, кто сдавал экзамены:\n",
    "    - никто их не пересдавал\n",
    "    - все пришли на экзамен, кроме одного (он дропнулся)\n",
    "    - из группы студентов, кто сдавал экзамены, некоторые успели проучится на том же предмете в другом семестре (но дропнулись на нем) \n",
    "    - из группы студентов, кто сдавал экзамены, некоторые успели проучится на другом предмете, но дропнулись на нем\n",
    "    \n",
    "    \n",
    "2. Экзамены несложные, поскольку завершаемость достаточно высокая \n",
    "\n",
    "\n",
    "3. Успех в сдаче экзамена, возможно, не связан с предметом и семестром и их взаимодействием (поскольку во всех случаях хи-тест не смог отклонить нулевую гипотезу) "
   ]
  }
 ],
 "metadata": {
  "kernelspec": {
   "display_name": "Python 3",
   "language": "python",
   "name": "python3"
  },
  "language_info": {
   "codemirror_mode": {
    "name": "ipython",
    "version": 3
   },
   "file_extension": ".py",
   "mimetype": "text/x-python",
   "name": "python",
   "nbconvert_exporter": "python",
   "pygments_lexer": "ipython3",
   "version": "3.7.3"
  }
 },
 "nbformat": 4,
 "nbformat_minor": 4
}
